{
  "nbformat": 4,
  "nbformat_minor": 0,
  "metadata": {
    "colab": {
      "provenance": [],
      "machine_shape": "hm",
      "gpuType": "T4"
    },
    "kernelspec": {
      "name": "python3",
      "display_name": "Python 3"
    },
    "language_info": {
      "name": "python"
    },
    "accelerator": "GPU"
  },
  "cells": [
    {
      "cell_type": "code",
      "source": [
        "import pandas as pd\n",
        "data_spot = pd.read_csv('/content/drive/MyDrive/Sample/네이버 지도 방문자 리뷰 크롤러_숙박_400.csv')\n",
        "\n",
        "data_spot"
      ],
      "metadata": {
        "id": "odio1ODHE5lO"
      },
      "execution_count": null,
      "outputs": []
    },
    {
      "cell_type": "code",
      "source": [
        "from glob import glob\n",
        "\n",
        "# 1) 데이터 로드 및 컬럼 정리\n",
        "file_paths = glob('/content/drive/MyDrive/Sample/네이버 지도 방문자 리뷰 크롤러_숙박_400.csv')\n",
        "\n",
        "df = pd.concat([\n",
        "    pd.read_csv(\n",
        "        fp,\n",
        "        usecols=[\n",
        "            '가게이름','카테고리','전체평점',\n",
        "            '방문자리뷰','리뷰작성자','이런_점이_좋아요','방문시간'\n",
        "        ],\n",
        "        engine='openpyxl'     # openpyxl 엔진 사용\n",
        "    )\n",
        "    for fp in file_paths\n",
        "], ignore_index=True)"
      ],
      "metadata": {
        "id": "gskESLP9EXOX"
      },
      "execution_count": null,
      "outputs": []
    },
    {
      "cell_type": "code",
      "source": [
        "from glob import glob\n",
        "\n",
        "# 1) 데이터 로드 및 컬럼 정리\n",
        "file_paths = glob('/content/drive/MyDrive/Sample_관광지/네이버 지도 방문자 리뷰 크롤러_관광지_*.xlsx')\n",
        "\n",
        "df = pd.concat([\n",
        "    pd.read_excel(\n",
        "        fp,\n",
        "        usecols=[\n",
        "            '가게이름','카테고리','전체평점',\n",
        "            '방문자리뷰','리뷰작성자','이런_점이_좋아요','방문시간'\n",
        "        ],\n",
        "        engine='openpyxl'     # openpyxl 엔진 사용\n",
        "    )\n",
        "    for fp in file_paths\n",
        "], ignore_index=True)\n",
        "\n",
        "# 방문시간을 문자열로 변환\n",
        "df['방문시간'] = df['방문시간'].astype(str)\n",
        "\n",
        "# 연도 포함 여부 판단: '^\\d{2}\\.\\d{1,2}\\.\\d{1,2}' 형태인 경우 → 연도 있음\n",
        "has_year = df['방문시간'].str.contains(r'^\\d{2}\\.\\d{1,2}\\.\\d{1,2}')\n",
        "\n",
        "# 연도 없는 데이터에는 기본 연도 '24' 추가 (또는 원하는 연도)\n",
        "df.loc[~has_year, '방문시간'] = '24.' + df.loc[~has_year, '방문시간']\n",
        "\n",
        "# 날짜 문자열만 추출\n",
        "df['date_str'] = df['방문시간'].str.extract(r'(\\d{2}\\.\\d{1,2}\\.\\d{1,2})')[0]\n",
        "\n",
        "# datetime 변환\n",
        "df['방문시간'] = pd.to_datetime(\n",
        "    df['date_str'],\n",
        "    format='%y.%m.%d',\n",
        "    errors='coerce'\n",
        ")\n",
        "\n",
        "# 분기만 추출\n",
        "df['quarter'] = df['방문시간'].dt.quarter\n",
        "\n",
        "# 불필요한 중간 컬럼 제거\n",
        "df.drop(columns=['date_str'], inplace=True)\n",
        "\n",
        "#print(df[['가게이름','방문시간','quarter']].head(20))\n",
        "\n",
        "from itertools import combinations\n",
        "from collections import Counter\n",
        "\n",
        "# 1. 필요 컬럼만 추출\n",
        "df = df[['가게이름', '리뷰작성자', 'quarter']].dropna()\n",
        "\n",
        "# 2. 사용자-분기 기준 그룹핑하여 장소 목록 생성\n",
        "user_quarter_group = df.groupby(['리뷰작성자', 'quarter'])['가게이름'].apply(list)\n",
        "\n",
        "# 3. 각 그룹에서 장소 쌍 조합 생성\n",
        "co_review_pairs = []\n",
        "\n",
        "for places in user_quarter_group:\n",
        "    # 장소가 2개 이상인 경우만 조합\n",
        "    if len(set(places)) >= 2:\n",
        "        pairs = combinations(sorted(set(places)), 2)\n",
        "        co_review_pairs.extend(pairs)\n",
        "\n",
        "# 4. 장소 쌍별 등장 횟수 계산\n",
        "pair_counts = Counter(co_review_pairs)\n",
        "\n",
        "# 5. 결과를 DataFrame으로 변환\n",
        "pair_df = pd.DataFrame([\n",
        "    {'가게1': p1, '가게2': p2, 'co_review_count': count}\n",
        "    for (p1, p2), count in pair_counts.items()\n",
        "])\n",
        "\n",
        "# 6. co_review 수 내림차순 정렬\n",
        "pair_df = pair_df.sort_values(by='co_review_count', ascending=False)\n",
        "\n",
        "# 7. 결과 확인\n",
        "print(pair_df.head(20))\n",
        "\n",
        "# 8. 저장 (선택사항)\n",
        "pair_df.to_csv('/content/drive/MyDrive/Sample/관광지_co_review_pairs.csv', index=False)\n"
      ],
      "metadata": {
        "id": "HkW7gZNmIFKW"
      },
      "execution_count": null,
      "outputs": []
    },
    {
      "cell_type": "code",
      "source": [
        "datar = pd.read_csv('/content/drive/MyDrive/Sample/관광지_co_review_pairs.csv')\n",
        "\n",
        "datar"
      ],
      "metadata": {
        "id": "oxgk39hRMEhd"
      },
      "execution_count": null,
      "outputs": []
    },
    {
      "cell_type": "code",
      "execution_count": null,
      "metadata": {
        "id": "Uun-iMz9EScZ"
      },
      "outputs": [],
      "source": []
    }
  ]
}
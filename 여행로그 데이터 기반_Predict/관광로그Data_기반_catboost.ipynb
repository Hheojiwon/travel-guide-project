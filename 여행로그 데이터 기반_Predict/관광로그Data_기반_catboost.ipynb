{
  "nbformat": 4,
  "nbformat_minor": 0,
  "metadata": {
    "colab": {
      "provenance": [],
      "gpuType": "T4"
    },
    "kernelspec": {
      "name": "python3",
      "display_name": "Python 3"
    },
    "language_info": {
      "name": "python"
    },
    "accelerator": "GPU",
    "widgets": {
      "application/vnd.jupyter.widget-state+json": {
        "67a14571a8a5478d88db857c8fb3afe4": {
          "model_module": "catboost-widget",
          "model_name": "CatboostWidgetModel",
          "model_module_version": "^1.0.0",
          "state": {
            "_dom_classes": [],
            "_model_module": "catboost-widget",
            "_model_module_version": "^1.0.0",
            "_model_name": "CatboostWidgetModel",
            "_view_count": null,
            "_view_module": "catboost-widget",
            "_view_module_version": "^1.0.0",
            "_view_name": "CatboostWidgetView",
            "data": {
              "catboost_info": {
                "path": "catboost_info",
                "name": "catboost_info",
                "content": {
                  "passed_iterations": 1999,
                  "total_iterations": 2000,
                  "data": {
                    "iterations": [
                      {
                        "learn": [
                          0.6814987934,
                          0.818683406
                        ],
                        "iteration": 0,
                        "passed_time": 0.1322219159,
                        "remaining_time": 264.3116098,
                        "test": [
                          0.689157888,
                          0.8326444719
                        ]
                      },
                      {
                        "learn": [
                          0.6805201496,
                          0.8178107178
                        ],
                        "iteration": 5,
                        "passed_time": 1.302562635,
                        "remaining_time": 432.8849825,
                        "test": [
                          0.6879654176,
                          0.8316116151
                        ]
                      },
                      {
                        "learn": [
                          0.6796474421,
                          0.8170711552
                        ],
                        "iteration": 10,
                        "passed_time": 2.752178569,
                        "remaining_time": 497.643925,
                        "test": [
                          0.6869197211,
                          0.8307378294
                        ]
                      },
                      {
                        "learn": [
                          0.6786900338,
                          0.8162818504
                        ],
                        "iteration": 15,
                        "passed_time": 3.601246255,
                        "remaining_time": 446.5545356,
                        "test": [
                          0.6857124104,
                          0.8297554201
                        ]
                      },
                      {
                        "learn": [
                          0.6773255309,
                          0.8152059559
                        ],
                        "iteration": 20,
                        "passed_time": 4.294223305,
                        "remaining_time": 404.6794248,
                        "test": [
                          0.6840664067,
                          0.8284517631
                        ]
                      },
                      {
                        "learn": [
                          0.6760851834,
                          0.8142462301
                        ],
                        "iteration": 25,
                        "passed_time": 4.761192186,
                        "remaining_time": 361.4843606,
                        "test": [
                          0.6826297354,
                          0.8273569105
                        ]
                      },
                      {
                        "learn": [
                          0.6751105816,
                          0.813487594
                        ],
                        "iteration": 30,
                        "passed_time": 4.954504432,
                        "remaining_time": 314.6909428,
                        "test": [
                          0.6812417474,
                          0.8262768156
                        ]
                      },
                      {
                        "learn": [
                          0.6740751689,
                          0.8127145173
                        ],
                        "iteration": 35,
                        "passed_time": 5.11345168,
                        "remaining_time": 278.9671972,
                        "test": [
                          0.679802301,
                          0.8252024347
                        ]
                      },
                      {
                        "learn": [
                          0.6723368123,
                          0.811433403
                        ],
                        "iteration": 40,
                        "passed_time": 5.261602748,
                        "remaining_time": 251.4019459,
                        "test": [
                          0.6777350989,
                          0.8236959398
                        ]
                      },
                      {
                        "learn": [
                          0.6706354971,
                          0.8102053654
                        ],
                        "iteration": 45,
                        "passed_time": 5.408450447,
                        "remaining_time": 229.741569,
                        "test": [
                          0.6757939185,
                          0.8222973603
                        ]
                      },
                      {
                        "learn": [
                          0.6690885618,
                          0.8091024897
                        ],
                        "iteration": 50,
                        "passed_time": 5.5597506,
                        "remaining_time": 212.4696847,
                        "test": [
                          0.6740491003,
                          0.8210926987
                        ]
                      },
                      {
                        "learn": [
                          0.6682282215,
                          0.8084980519
                        ],
                        "iteration": 55,
                        "passed_time": 5.700475099,
                        "remaining_time": 197.8879213,
                        "test": [
                          0.6728572332,
                          0.8202573518
                        ]
                      },
                      {
                        "learn": [
                          0.666609556,
                          0.8073525317
                        ],
                        "iteration": 60,
                        "passed_time": 5.85830748,
                        "remaining_time": 186.2173476,
                        "test": [
                          0.6709692003,
                          0.8189562175
                        ]
                      },
                      {
                        "learn": [
                          0.6657511462,
                          0.8067436421
                        ],
                        "iteration": 65,
                        "passed_time": 6.026796295,
                        "remaining_time": 176.6033945,
                        "test": [
                          0.6697095867,
                          0.818073376
                        ]
                      },
                      {
                        "learn": [
                          0.6646687983,
                          0.8060075097
                        ],
                        "iteration": 70,
                        "passed_time": 6.169049848,
                        "remaining_time": 167.6070022,
                        "test": [
                          0.6684354948,
                          0.8172154179
                        ]
                      },
                      {
                        "learn": [
                          0.6634885376,
                          0.8051935365
                        ],
                        "iteration": 75,
                        "passed_time": 6.313720124,
                        "remaining_time": 159.8368095,
                        "test": [
                          0.666947546,
                          0.8162064964
                        ]
                      },
                      {
                        "learn": [
                          0.6624065516,
                          0.8044598478
                        ],
                        "iteration": 80,
                        "passed_time": 6.453725451,
                        "remaining_time": 152.8975202,
                        "test": [
                          0.6655520775,
                          0.8152832741
                        ]
                      },
                      {
                        "learn": [
                          0.6612776303,
                          0.8037060108
                        ],
                        "iteration": 85,
                        "passed_time": 6.604930811,
                        "remaining_time": 146.9981113,
                        "test": [
                          0.6640291395,
                          0.8142701065
                        ]
                      },
                      {
                        "learn": [
                          0.6598194981,
                          0.8027262232
                        ],
                        "iteration": 90,
                        "passed_time": 6.75364164,
                        "remaining_time": 141.6780428,
                        "test": [
                          0.6623632282,
                          0.8131608335
                        ]
                      },
                      {
                        "learn": [
                          0.6583730695,
                          0.8017581429
                        ],
                        "iteration": 95,
                        "passed_time": 6.921663688,
                        "remaining_time": 137.2796631,
                        "test": [
                          0.6605861354,
                          0.8120470365
                        ]
                      },
                      {
                        "learn": [
                          0.6573231781,
                          0.8010687917
                        ],
                        "iteration": 100,
                        "passed_time": 7.063021624,
                        "remaining_time": 132.7987927,
                        "test": [
                          0.6592499677,
                          0.8111743753
                        ]
                      },
                      {
                        "learn": [
                          0.6559469112,
                          0.8001788154
                        ],
                        "iteration": 105,
                        "passed_time": 7.203765531,
                        "remaining_time": 128.7163388,
                        "test": [
                          0.6574889217,
                          0.8100378884
                        ]
                      },
                      {
                        "learn": [
                          0.6543029078,
                          0.7991100036
                        ],
                        "iteration": 110,
                        "passed_time": 7.34768447,
                        "remaining_time": 125.0430267,
                        "test": [
                          0.6554143598,
                          0.8086912571
                        ]
                      },
                      {
                        "learn": [
                          0.6533137669,
                          0.7984899932
                        ],
                        "iteration": 115,
                        "passed_time": 7.505924777,
                        "remaining_time": 121.9065714,
                        "test": [
                          0.654208135,
                          0.8079740201
                        ]
                      },
                      {
                        "learn": [
                          0.6515480212,
                          0.7973818842
                        ],
                        "iteration": 120,
                        "passed_time": 7.654823785,
                        "remaining_time": 118.8711892,
                        "test": [
                          0.6521308584,
                          0.8067008223
                        ]
                      },
                      {
                        "learn": [
                          0.6504492037,
                          0.7966853009
                        ],
                        "iteration": 125,
                        "passed_time": 7.822768371,
                        "remaining_time": 116.3481582,
                        "test": [
                          0.6507239279,
                          0.805826152
                        ]
                      },
                      {
                        "learn": [
                          0.6493631153,
                          0.7960077374
                        ],
                        "iteration": 130,
                        "passed_time": 7.969500544,
                        "remaining_time": 113.7022635,
                        "test": [
                          0.649294918,
                          0.8049778855
                        ]
                      },
                      {
                        "learn": [
                          0.6479128861,
                          0.7951204044
                        ],
                        "iteration": 135,
                        "passed_time": 8.105762286,
                        "remaining_time": 111.0966243,
                        "test": [
                          0.6475982402,
                          0.8039526687
                        ]
                      },
                      {
                        "learn": [
                          0.6463503861,
                          0.7941736283
                        ],
                        "iteration": 140,
                        "passed_time": 8.257849481,
                        "remaining_time": 108.8747673,
                        "test": [
                          0.6457998522,
                          0.8028968404
                        ]
                      },
                      {
                        "learn": [
                          0.6452497587,
                          0.7935308692
                        ],
                        "iteration": 145,
                        "passed_time": 8.400264803,
                        "remaining_time": 106.6718558,
                        "test": [
                          0.6444818427,
                          0.8021647212
                        ]
                      },
                      {
                        "learn": [
                          0.6440769184,
                          0.7928406421
                        ],
                        "iteration": 150,
                        "passed_time": 8.55941221,
                        "remaining_time": 104.8102859,
                        "test": [
                          0.6431871795,
                          0.8014327611
                        ]
                      },
                      {
                        "learn": [
                          0.6432084942,
                          0.7923242713
                        ],
                        "iteration": 155,
                        "passed_time": 8.703426862,
                        "remaining_time": 102.8789688,
                        "test": [
                          0.6420361533,
                          0.8007736247
                        ]
                      },
                      {
                        "learn": [
                          0.6417238779,
                          0.7914607451
                        ],
                        "iteration": 160,
                        "passed_time": 8.871504772,
                        "remaining_time": 101.3335235,
                        "test": [
                          0.64033845,
                          0.7998314199
                        ]
                      },
                      {
                        "learn": [
                          0.6405065758,
                          0.7907585644
                        ],
                        "iteration": 165,
                        "passed_time": 9.018258976,
                        "remaining_time": 99.63546363,
                        "test": [
                          0.6388913422,
                          0.7990117844
                        ]
                      },
                      {
                        "learn": [
                          0.6397049952,
                          0.7902970185
                        ],
                        "iteration": 170,
                        "passed_time": 9.160256355,
                        "remaining_time": 97.97724487,
                        "test": [
                          0.6378827464,
                          0.7984534092
                        ]
                      },
                      {
                        "learn": [
                          0.6381390565,
                          0.7894266131
                        ],
                        "iteration": 175,
                        "passed_time": 9.33211105,
                        "remaining_time": 96.71460543,
                        "test": [
                          0.6360263245,
                          0.7974539224
                        ]
                      },
                      {
                        "learn": [
                          0.6372153716,
                          0.7888994429
                        ],
                        "iteration": 180,
                        "passed_time": 9.474465873,
                        "remaining_time": 95.21576477,
                        "test": [
                          0.6347773886,
                          0.7967688943
                        ]
                      },
                      {
                        "learn": [
                          0.6360898287,
                          0.7882750752
                        ],
                        "iteration": 185,
                        "passed_time": 9.623796478,
                        "remaining_time": 93.85788609,
                        "test": [
                          0.6333845142,
                          0.796031897
                        ]
                      },
                      {
                        "learn": [
                          0.6357428813,
                          0.7880864015
                        ],
                        "iteration": 190,
                        "passed_time": 9.774946713,
                        "remaining_time": 92.58051625,
                        "test": [
                          0.6329206048,
                          0.795795568
                        ]
                      },
                      {
                        "learn": [
                          0.6349090251,
                          0.7876443914
                        ],
                        "iteration": 195,
                        "passed_time": 9.943248569,
                        "remaining_time": 91.51847153,
                        "test": [
                          0.6319557456,
                          0.7953036984
                        ]
                      },
                      {
                        "learn": [
                          0.6337077099,
                          0.7870030454
                        ],
                        "iteration": 200,
                        "passed_time": 10.09399256,
                        "remaining_time": 90.34374431,
                        "test": [
                          0.6306027468,
                          0.7946063018
                        ]
                      },
                      {
                        "learn": [
                          0.6318959339,
                          0.7860266907
                        ],
                        "iteration": 205,
                        "passed_time": 10.24277958,
                        "remaining_time": 89.2016824,
                        "test": [
                          0.6285408535,
                          0.7935351872
                        ]
                      },
                      {
                        "learn": [
                          0.6309685087,
                          0.7855446629
                        ],
                        "iteration": 210,
                        "passed_time": 10.38561635,
                        "remaining_time": 88.05624483,
                        "test": [
                          0.6274150436,
                          0.7929721948
                        ]
                      },
                      {
                        "learn": [
                          0.6295906129,
                          0.7848043278
                        ],
                        "iteration": 215,
                        "passed_time": 10.54490428,
                        "remaining_time": 87.09309832,
                        "test": [
                          0.6258810659,
                          0.7921894026
                        ]
                      },
                      {
                        "learn": [
                          0.6290409628,
                          0.7845205865
                        ],
                        "iteration": 220,
                        "passed_time": 10.68450965,
                        "remaining_time": 86.00788535,
                        "test": [
                          0.6250577926,
                          0.7917748402
                        ]
                      },
                      {
                        "learn": [
                          0.62778493,
                          0.7838613308
                        ],
                        "iteration": 225,
                        "passed_time": 10.84870795,
                        "remaining_time": 85.15755712,
                        "test": [
                          0.6235910184,
                          0.7910612161
                        ]
                      },
                      {
                        "learn": [
                          0.6266410473,
                          0.7832869392
                        ],
                        "iteration": 230,
                        "passed_time": 11.01435427,
                        "remaining_time": 84.3480204,
                        "test": [
                          0.6222666747,
                          0.7904067109
                        ]
                      },
                      {
                        "learn": [
                          0.6260101351,
                          0.782984272
                        ],
                        "iteration": 235,
                        "passed_time": 11.1685814,
                        "remaining_time": 83.48041351,
                        "test": [
                          0.6214422552,
                          0.7900179015
                        ]
                      },
                      {
                        "learn": [
                          0.6249235039,
                          0.7824433164
                        ],
                        "iteration": 240,
                        "passed_time": 11.31558295,
                        "remaining_time": 82.58966975,
                        "test": [
                          0.6201466267,
                          0.7894253111
                        ]
                      },
                      {
                        "learn": [
                          0.6243461028,
                          0.7821250891
                        ],
                        "iteration": 245,
                        "passed_time": 11.46420463,
                        "remaining_time": 81.74071107,
                        "test": [
                          0.6193511639,
                          0.7890081113
                        ]
                      },
                      {
                        "learn": [
                          0.6236338682,
                          0.7817539108
                        ],
                        "iteration": 250,
                        "passed_time": 11.61643617,
                        "remaining_time": 80.94480818,
                        "test": [
                          0.618415382,
                          0.7885480797
                        ]
                      },
                      {
                        "learn": [
                          0.6225828306,
                          0.7812022572
                        ],
                        "iteration": 255,
                        "passed_time": 11.75593738,
                        "remaining_time": 80.08732339,
                        "test": [
                          0.617078611,
                          0.7878736082
                        ]
                      },
                      {
                        "learn": [
                          0.6216887669,
                          0.7807684423
                        ],
                        "iteration": 260,
                        "passed_time": 11.92619465,
                        "remaining_time": 79.46227012,
                        "test": [
                          0.6160443162,
                          0.7873946797
                        ]
                      },
                      {
                        "learn": [
                          0.6208353041,
                          0.7803353526
                        ],
                        "iteration": 265,
                        "passed_time": 12.06287354,
                        "remaining_time": 78.63542376,
                        "test": [
                          0.6149801599,
                          0.7868934574
                        ]
                      },
                      {
                        "learn": [
                          0.6196506395,
                          0.7797531413
                        ],
                        "iteration": 270,
                        "passed_time": 12.21726001,
                        "remaining_time": 77.94702051,
                        "test": [
                          0.6135410755,
                          0.7862129243
                        ]
                      },
                      {
                        "learn": [
                          0.6187004706,
                          0.7792849612
                        ],
                        "iteration": 275,
                        "passed_time": 12.36445173,
                        "remaining_time": 77.23302456,
                        "test": [
                          0.6124774621,
                          0.7857114472
                        ]
                      },
                      {
                        "learn": [
                          0.617750181,
                          0.7788312171
                        ],
                        "iteration": 280,
                        "passed_time": 12.52792726,
                        "remaining_time": 76.6388148,
                        "test": [
                          0.6113912263,
                          0.7852401501
                        ]
                      },
                      {
                        "learn": [
                          0.6170026544,
                          0.7784565696
                        ],
                        "iteration": 285,
                        "passed_time": 12.67297026,
                        "remaining_time": 75.9491994,
                        "test": [
                          0.6104807815,
                          0.784816421
                        ]
                      },
                      {
                        "learn": [
                          0.6162317206,
                          0.7780987604
                        ],
                        "iteration": 290,
                        "passed_time": 12.81695018,
                        "remaining_time": 75.27205448,
                        "test": [
                          0.6095462061,
                          0.7843858873
                        ]
                      },
                      {
                        "learn": [
                          0.6158607022,
                          0.7779123492
                        ],
                        "iteration": 295,
                        "passed_time": 12.98124169,
                        "remaining_time": 74.72985081,
                        "test": [
                          0.6089338939,
                          0.7840923862
                        ]
                      },
                      {
                        "learn": [
                          0.6148805502,
                          0.7774516739
                        ],
                        "iteration": 300,
                        "passed_time": 13.13072083,
                        "remaining_time": 74.11659365,
                        "test": [
                          0.6077455257,
                          0.7835572937
                        ]
                      },
                      {
                        "learn": [
                          0.6135629826,
                          0.7768548764
                        ],
                        "iteration": 305,
                        "passed_time": 13.28182711,
                        "remaining_time": 73.5275004,
                        "test": [
                          0.6062362215,
                          0.7828909672
                        ]
                      },
                      {
                        "learn": [
                          0.6124307432,
                          0.7763250365
                        ],
                        "iteration": 310,
                        "passed_time": 13.43021284,
                        "remaining_time": 72.93771542,
                        "test": [
                          0.6049329919,
                          0.7822957157
                        ]
                      },
                      {
                        "learn": [
                          0.6114204271,
                          0.7758538546
                        ],
                        "iteration": 315,
                        "passed_time": 13.58536319,
                        "remaining_time": 72.39794815,
                        "test": [
                          0.6037530694,
                          0.7817405644
                        ]
                      },
                      {
                        "learn": [
                          0.6106926882,
                          0.7755114143
                        ],
                        "iteration": 320,
                        "passed_time": 13.72852012,
                        "remaining_time": 71.80743081,
                        "test": [
                          0.6028560773,
                          0.7813431576
                        ]
                      },
                      {
                        "learn": [
                          0.6101283181,
                          0.7752393686
                        ],
                        "iteration": 325,
                        "passed_time": 13.87018884,
                        "remaining_time": 71.22299421,
                        "test": [
                          0.6021945389,
                          0.7810533404
                        ]
                      },
                      {
                        "learn": [
                          0.6095342061,
                          0.7749882456
                        ],
                        "iteration": 330,
                        "passed_time": 14.03985721,
                        "remaining_time": 70.79311685,
                        "test": [
                          0.6015104987,
                          0.7807808389
                        ]
                      },
                      {
                        "learn": [
                          0.6089187983,
                          0.7746985729
                        ],
                        "iteration": 335,
                        "passed_time": 14.18234896,
                        "remaining_time": 70.23639487,
                        "test": [
                          0.600785497,
                          0.7804532477
                        ]
                      },
                      {
                        "learn": [
                          0.6080889841,
                          0.7743087199
                        ],
                        "iteration": 340,
                        "passed_time": 14.32900677,
                        "remaining_time": 69.71208867,
                        "test": [
                          0.5998510422,
                          0.780045866
                        ]
                      },
                      {
                        "learn": [
                          0.6074311655,
                          0.7740358619
                        ],
                        "iteration": 345,
                        "passed_time": 14.45594609,
                        "remaining_time": 69.10443592,
                        "test": [
                          0.5990356717,
                          0.779718817
                        ]
                      },
                      {
                        "learn": [
                          0.6067356419,
                          0.7737284063
                        ],
                        "iteration": 350,
                        "passed_time": 14.62665338,
                        "remaining_time": 68.71610093,
                        "test": [
                          0.598218612,
                          0.7793564122
                        ]
                      },
                      {
                        "learn": [
                          0.6060973697,
                          0.7734603354
                        ],
                        "iteration": 355,
                        "passed_time": 15.18949775,
                        "remaining_time": 70.14475928,
                        "test": [
                          0.597437929,
                          0.7790202846
                        ]
                      },
                      {
                        "learn": [
                          0.6059028716,
                          0.7733446561
                        ],
                        "iteration": 360,
                        "passed_time": 15.4708755,
                        "remaining_time": 70.24034611,
                        "test": [
                          0.5971877558,
                          0.7788709298
                        ]
                      },
                      {
                        "learn": [
                          0.605120777,
                          0.7730159324
                        ],
                        "iteration": 365,
                        "passed_time": 15.99844602,
                        "remaining_time": 71.42475626,
                        "test": [
                          0.5963022257,
                          0.7785185913
                        ]
                      },
                      {
                        "learn": [
                          0.604335847,
                          0.7726673155
                        ],
                        "iteration": 370,
                        "passed_time": 16.88017884,
                        "remaining_time": 74.11808982,
                        "test": [
                          0.5954192897,
                          0.7781199653
                        ]
                      },
                      {
                        "learn": [
                          0.6037040903,
                          0.7724096938
                        ],
                        "iteration": 375,
                        "passed_time": 18.17148272,
                        "remaining_time": 78.48534024,
                        "test": [
                          0.5947003809,
                          0.7778209587
                        ]
                      },
                      {
                        "learn": [
                          0.6031003258,
                          0.7721674166
                        ],
                        "iteration": 380,
                        "passed_time": 18.83734308,
                        "remaining_time": 80.04634762,
                        "test": [
                          0.5939789384,
                          0.7775372382
                        ]
                      },
                      {
                        "learn": [
                          0.6029065516,
                          0.7720615845
                        ],
                        "iteration": 385,
                        "passed_time": 19.31481161,
                        "remaining_time": 80.76193249,
                        "test": [
                          0.5937419766,
                          0.7774200351
                        ]
                      },
                      {
                        "learn": [
                          0.6023845319,
                          0.7718319777
                        ],
                        "iteration": 390,
                        "passed_time": 20.01801729,
                        "remaining_time": 82.37593304,
                        "test": [
                          0.5931599482,
                          0.7771764941
                        ]
                      },
                      {
                        "learn": [
                          0.6019470922,
                          0.7716454208
                        ],
                        "iteration": 395,
                        "passed_time": 20.83551408,
                        "remaining_time": 84.39435499,
                        "test": [
                          0.5926634626,
                          0.7769673512
                        ]
                      },
                      {
                        "learn": [
                          0.6009863658,
                          0.7712513259
                        ],
                        "iteration": 400,
                        "passed_time": 21.60041294,
                        "remaining_time": 86.13231994,
                        "test": [
                          0.5915813291,
                          0.776524697
                        ]
                      },
                      {
                        "learn": [
                          0.5999483591,
                          0.7708234155
                        ],
                        "iteration": 405,
                        "passed_time": 22.27369692,
                        "remaining_time": 87.448948,
                        "test": [
                          0.590463422,
                          0.7760714908
                        ]
                      },
                      {
                        "learn": [
                          0.5989169884,
                          0.7704121036
                        ],
                        "iteration": 410,
                        "passed_time": 23.2938073,
                        "remaining_time": 90.05805303,
                        "test": [
                          0.5893355007,
                          0.7756223365
                        ]
                      },
                      {
                        "learn": [
                          0.598406431,
                          0.7702002557
                        ],
                        "iteration": 415,
                        "passed_time": 24.1520773,
                        "remaining_time": 91.96367896,
                        "test": [
                          0.5887598066,
                          0.7753944135
                        ]
                      },
                      {
                        "learn": [
                          0.5976947997,
                          0.7699161471
                        ],
                        "iteration": 420,
                        "passed_time": 24.55377462,
                        "remaining_time": 92.09123546,
                        "test": [
                          0.5879533644,
                          0.77505361
                        ]
                      },
                      {
                        "learn": [
                          0.5970151424,
                          0.7696369503
                        ],
                        "iteration": 425,
                        "passed_time": 24.75856883,
                        "remaining_time": 91.47884353,
                        "test": [
                          0.5871493955,
                          0.7747116441
                        ]
                      },
                      {
                        "learn": [
                          0.5962864382,
                          0.7693405186
                        ],
                        "iteration": 430,
                        "passed_time": 24.91791853,
                        "remaining_time": 90.71047373,
                        "test": [
                          0.5863430739,
                          0.7743985459
                        ]
                      },
                      {
                        "learn": [
                          0.5956935931,
                          0.769097
                        ],
                        "iteration": 435,
                        "passed_time": 25.07004664,
                        "remaining_time": 89.93016729,
                        "test": [
                          0.5856858789,
                          0.7741463008
                        ]
                      },
                      {
                        "learn": [
                          0.5949631998,
                          0.7687705015
                        ],
                        "iteration": 440,
                        "passed_time": 25.2166191,
                        "remaining_time": 89.14446526,
                        "test": [
                          0.5848122934,
                          0.7737439799
                        ]
                      },
                      {
                        "learn": [
                          0.5943232384,
                          0.7685321795
                        ],
                        "iteration": 445,
                        "passed_time": 25.36053022,
                        "remaining_time": 88.36382056,
                        "test": [
                          0.5841150418,
                          0.7734604407
                        ]
                      },
                      {
                        "learn": [
                          0.5937560931,
                          0.7683108227
                        ],
                        "iteration": 450,
                        "passed_time": 25.52049674,
                        "remaining_time": 87.65243781,
                        "test": [
                          0.58347136,
                          0.7732218941
                        ]
                      },
                      {
                        "learn": [
                          0.593234556,
                          0.7680780525
                        ],
                        "iteration": 455,
                        "passed_time": 25.68082578,
                        "remaining_time": 86.95437502,
                        "test": [
                          0.5828925289,
                          0.7729902198
                        ]
                      },
                      {
                        "learn": [
                          0.5928776544,
                          0.767924483
                        ],
                        "iteration": 460,
                        "passed_time": 25.82371862,
                        "remaining_time": 86.2097678,
                        "test": [
                          0.5824785697,
                          0.7728251026
                        ]
                      },
                      {
                        "learn": [
                          0.592383265,
                          0.7677380767
                        ],
                        "iteration": 465,
                        "passed_time": 25.96815406,
                        "remaining_time": 85.48315093,
                        "test": [
                          0.5819476377,
                          0.7726203645
                        ]
                      },
                      {
                        "learn": [
                          0.5915860883,
                          0.7674579303
                        ],
                        "iteration": 470,
                        "passed_time": 26.11572424,
                        "remaining_time": 84.77907083,
                        "test": [
                          0.5810688039,
                          0.7722895071
                        ]
                      },
                      {
                        "learn": [
                          0.5911727799,
                          0.7672942513
                        ],
                        "iteration": 475,
                        "passed_time": 26.25751769,
                        "remaining_time": 84.06818688,
                        "test": [
                          0.580574309,
                          0.772090487
                        ]
                      },
                      {
                        "learn": [
                          0.5908014599,
                          0.7671196849
                        ],
                        "iteration": 480,
                        "passed_time": 26.40131611,
                        "remaining_time": 83.37546605,
                        "test": [
                          0.5802139196,
                          0.7719145098
                        ]
                      },
                      {
                        "learn": [
                          0.5904276665,
                          0.7669795312
                        ],
                        "iteration": 485,
                        "passed_time": 26.56039547,
                        "remaining_time": 82.74164351,
                        "test": [
                          0.5797980902,
                          0.7717624509
                        ]
                      },
                      {
                        "learn": [
                          0.5897845077,
                          0.7667512351
                        ],
                        "iteration": 490,
                        "passed_time": 26.71398046,
                        "remaining_time": 82.10060388,
                        "test": [
                          0.579068383,
                          0.7714935879
                        ]
                      },
                      {
                        "learn": [
                          0.5892644788,
                          0.7665615529
                        ],
                        "iteration": 495,
                        "passed_time": 26.85927457,
                        "remaining_time": 81.44425193,
                        "test": [
                          0.578477728,
                          0.7712891221
                        ]
                      },
                      {
                        "learn": [
                          0.5887495777,
                          0.7663852059
                        ],
                        "iteration": 500,
                        "passed_time": 27.00851751,
                        "remaining_time": 80.80991567,
                        "test": [
                          0.5779131943,
                          0.7710995449
                        ]
                      },
                      {
                        "learn": [
                          0.5881149252,
                          0.7661643705
                        ],
                        "iteration": 505,
                        "passed_time": 27.14740667,
                        "remaining_time": 80.15459599,
                        "test": [
                          0.5772173905,
                          0.7708562766
                        ]
                      },
                      {
                        "learn": [
                          0.5878774735,
                          0.7660652692
                        ],
                        "iteration": 510,
                        "passed_time": 27.29752264,
                        "remaining_time": 79.54209632,
                        "test": [
                          0.5769365111,
                          0.7707619297
                        ]
                      },
                      {
                        "learn": [
                          0.5874772563,
                          0.7659083817
                        ],
                        "iteration": 515,
                        "passed_time": 27.44655663,
                        "remaining_time": 78.93544581,
                        "test": [
                          0.576547889,
                          0.7706280791
                        ]
                      },
                      {
                        "learn": [
                          0.5870864503,
                          0.7657698971
                        ],
                        "iteration": 520,
                        "passed_time": 27.61652431,
                        "remaining_time": 78.3970047,
                        "test": [
                          0.5761559489,
                          0.7705028569
                        ]
                      },
                      {
                        "learn": [
                          0.5866127534,
                          0.7655762286
                        ],
                        "iteration": 525,
                        "passed_time": 27.77351162,
                        "remaining_time": 77.82919416,
                        "test": [
                          0.5756396159,
                          0.770287947
                        ]
                      },
                      {
                        "learn": [
                          0.5861902148,
                          0.7654119897
                        ],
                        "iteration": 530,
                        "passed_time": 27.91870631,
                        "remaining_time": 77.23649636,
                        "test": [
                          0.5751642444,
                          0.7701059177
                        ]
                      },
                      {
                        "learn": [
                          0.5856798986,
                          0.7652155108
                        ],
                        "iteration": 535,
                        "passed_time": 28.06207823,
                        "remaining_time": 76.64716889,
                        "test": [
                          0.5746266766,
                          0.769903865
                        ]
                      },
                      {
                        "learn": [
                          0.5853259532,
                          0.7650768219
                        ],
                        "iteration": 540,
                        "passed_time": 28.30062853,
                        "remaining_time": 76.32276714,
                        "test": [
                          0.5742515675,
                          0.7697705313
                        ]
                      },
                      {
                        "learn": [
                          0.5850226834,
                          0.7649495435
                        ],
                        "iteration": 545,
                        "passed_time": 28.90304439,
                        "remaining_time": 76.96891308,
                        "test": [
                          0.5738854471,
                          0.7696218897
                        ]
                      },
                      {
                        "learn": [
                          0.5846417712,
                          0.7647902184
                        ],
                        "iteration": 550,
                        "passed_time": 29.41177532,
                        "remaining_time": 77.34602984,
                        "test": [
                          0.573464671,
                          0.76944966
                        ]
                      },
                      {
                        "learn": [
                          0.5842155526,
                          0.7646419453
                        ],
                        "iteration": 555,
                        "passed_time": 29.95390601,
                        "remaining_time": 77.79395733,
                        "test": [
                          0.5730361128,
                          0.7693098959
                        ]
                      },
                      {
                        "learn": [
                          0.5839361728,
                          0.7645196053
                        ],
                        "iteration": 560,
                        "passed_time": 30.6700961,
                        "remaining_time": 78.67070997,
                        "test": [
                          0.5727617487,
                          0.7691918705
                        ]
                      },
                      {
                        "learn": [
                          0.5835935087,
                          0.7643878933
                        ],
                        "iteration": 565,
                        "passed_time": 31.18597772,
                        "remaining_time": 79.01182342,
                        "test": [
                          0.5723777113,
                          0.7690561778
                        ]
                      },
                      {
                        "learn": [
                          0.5832689431,
                          0.7642314114
                        ],
                        "iteration": 570,
                        "passed_time": 31.50430169,
                        "remaining_time": 78.8435151,
                        "test": [
                          0.5720318605,
                          0.7689073981
                        ]
                      },
                      {
                        "learn": [
                          0.5828460425,
                          0.7640923859
                        ],
                        "iteration": 575,
                        "passed_time": 31.68752647,
                        "remaining_time": 78.33860711,
                        "test": [
                          0.5715663223,
                          0.7687561178
                        ]
                      },
                      {
                        "learn": [
                          0.5823851351,
                          0.763923524
                        ],
                        "iteration": 580,
                        "passed_time": 31.86020788,
                        "remaining_time": 77.81348533,
                        "test": [
                          0.5710805144,
                          0.7685813786
                        ]
                      },
                      {
                        "learn": [
                          0.5819045005,
                          0.7637429344
                        ],
                        "iteration": 585,
                        "passed_time": 32.00791903,
                        "remaining_time": 77.23412545,
                        "test": [
                          0.5705212894,
                          0.7683769229
                        ]
                      },
                      {
                        "learn": [
                          0.5816573359,
                          0.7636430448
                        ],
                        "iteration": 590,
                        "passed_time": 32.15167088,
                        "remaining_time": 76.65262989,
                        "test": [
                          0.5702511481,
                          0.7682609529
                        ]
                      },
                      {
                        "learn": [
                          0.5813581684,
                          0.7635366237
                        ],
                        "iteration": 595,
                        "passed_time": 32.29593583,
                        "remaining_time": 76.07968777,
                        "test": [
                          0.5698989631,
                          0.7681410386
                        ]
                      },
                      {
                        "learn": [
                          0.5811032819,
                          0.7634316496
                        ],
                        "iteration": 600,
                        "passed_time": 32.43483381,
                        "remaining_time": 75.50138518,
                        "test": [
                          0.5695961853,
                          0.7680171389
                        ]
                      },
                      {
                        "learn": [
                          0.5808761462,
                          0.7633507264
                        ],
                        "iteration": 605,
                        "passed_time": 32.5761604,
                        "remaining_time": 74.93592013,
                        "test": [
                          0.5693471582,
                          0.7679302204
                        ]
                      },
                      {
                        "learn": [
                          0.5806679537,
                          0.7632522082
                        ],
                        "iteration": 610,
                        "passed_time": 32.74768557,
                        "remaining_time": 74.44604788,
                        "test": [
                          0.5691377655,
                          0.7678479668
                        ]
                      },
                      {
                        "learn": [
                          0.5804057674,
                          0.7631377484
                        ],
                        "iteration": 615,
                        "passed_time": 32.89107711,
                        "remaining_time": 73.89813429,
                        "test": [
                          0.5688665384,
                          0.7677412675
                        ]
                      },
                      {
                        "learn": [
                          0.5800927847,
                          0.7630197134
                        ],
                        "iteration": 620,
                        "passed_time": 33.04158733,
                        "remaining_time": 73.37254256,
                        "test": [
                          0.5685454817,
                          0.7676290522
                        ]
                      },
                      {
                        "learn": [
                          0.5797791988,
                          0.7628879401
                        ],
                        "iteration": 625,
                        "passed_time": 33.19647636,
                        "remaining_time": 72.86255354,
                        "test": [
                          0.5682224342,
                          0.767503773
                        ]
                      },
                      {
                        "learn": [
                          0.5795127292,
                          0.7628022931
                        ],
                        "iteration": 630,
                        "passed_time": 33.34110938,
                        "remaining_time": 72.33594094,
                        "test": [
                          0.5679273179,
                          0.7674244608
                        ]
                      },
                      {
                        "learn": [
                          0.5792397442,
                          0.7627091222
                        ],
                        "iteration": 635,
                        "passed_time": 33.53393265,
                        "remaining_time": 71.91868575,
                        "test": [
                          0.5676463179,
                          0.7673169557
                        ]
                      },
                      {
                        "learn": [
                          0.5790252172,
                          0.7626228618
                        ],
                        "iteration": 640,
                        "passed_time": 33.68077805,
                        "remaining_time": 71.407453,
                        "test": [
                          0.5674241964,
                          0.7672353047
                        ]
                      },
                      {
                        "learn": [
                          0.5788291506,
                          0.7625428813
                        ],
                        "iteration": 645,
                        "passed_time": 33.86300781,
                        "remaining_time": 70.97602565,
                        "test": [
                          0.5672310315,
                          0.7671711414
                        ]
                      },
                      {
                        "learn": [
                          0.5785165903,
                          0.7624122916
                        ],
                        "iteration": 650,
                        "passed_time": 34.00733227,
                        "remaining_time": 70.46987901,
                        "test": [
                          0.5669003226,
                          0.7670446863
                        ]
                      },
                      {
                        "learn": [
                          0.578308458,
                          0.7623289652
                        ],
                        "iteration": 655,
                        "passed_time": 34.15083077,
                        "remaining_time": 69.96755572,
                        "test": [
                          0.5666817,
                          0.7669628883
                        ]
                      },
                      {
                        "learn": [
                          0.5781240951,
                          0.7622466191
                        ],
                        "iteration": 660,
                        "passed_time": 34.29555296,
                        "remaining_time": 69.47313982,
                        "test": [
                          0.5665099509,
                          0.7668977582
                        ]
                      },
                      {
                        "learn": [
                          0.5779232022,
                          0.7621703588
                        ],
                        "iteration": 665,
                        "passed_time": 34.43609273,
                        "remaining_time": 68.97559714,
                        "test": [
                          0.5663134078,
                          0.7668334487
                        ]
                      },
                      {
                        "learn": [
                          0.5776642133,
                          0.762059101
                        ],
                        "iteration": 670,
                        "passed_time": 34.58055215,
                        "remaining_time": 68.49113831,
                        "test": [
                          0.5660467051,
                          0.7667158683
                        ]
                      },
                      {
                        "learn": [
                          0.5775844595,
                          0.7620104527
                        ],
                        "iteration": 675,
                        "passed_time": 34.74563872,
                        "remaining_time": 68.05210897,
                        "test": [
                          0.565967557,
                          0.7666760151
                        ]
                      },
                      {
                        "learn": [
                          0.5773491795,
                          0.7619296161
                        ],
                        "iteration": 680,
                        "passed_time": 34.90274418,
                        "remaining_time": 67.60164401,
                        "test": [
                          0.5657321034,
                          0.7666025193
                        ]
                      },
                      {
                        "learn": [
                          0.5771570946,
                          0.7618634995
                        ],
                        "iteration": 685,
                        "passed_time": 35.04689912,
                        "remaining_time": 67.13064933,
                        "test": [
                          0.5655171003,
                          0.7665348796
                        ]
                      },
                      {
                        "learn": [
                          0.5769164455,
                          0.7617814989
                        ],
                        "iteration": 690,
                        "passed_time": 35.19190674,
                        "remaining_time": 66.66599988,
                        "test": [
                          0.5652816467,
                          0.7664665255
                        ]
                      },
                      {
                        "learn": [
                          0.5768378982,
                          0.761737862
                        ],
                        "iteration": 695,
                        "passed_time": 35.33558375,
                        "remaining_time": 66.20345001,
                        "test": [
                          0.5652183041,
                          0.7664326414
                        ]
                      },
                      {
                        "learn": [
                          0.5766284387,
                          0.7616460263
                        ],
                        "iteration": 700,
                        "passed_time": 35.48380637,
                        "remaining_time": 65.75387228,
                        "test": [
                          0.5650210973,
                          0.7663660888
                        ]
                      },
                      {
                        "learn": [
                          0.5764225386,
                          0.7615412274
                        ],
                        "iteration": 705,
                        "passed_time": 35.63238575,
                        "remaining_time": 65.30921695,
                        "test": [
                          0.5648050688,
                          0.7662673708
                        ]
                      },
                      {
                        "learn": [
                          0.5762251448,
                          0.7614524182
                        ],
                        "iteration": 710,
                        "passed_time": 35.80690978,
                        "remaining_time": 64.91576189,
                        "test": [
                          0.5645843951,
                          0.7661510421
                        ]
                      },
                      {
                        "learn": [
                          0.576070041,
                          0.761388756
                        ],
                        "iteration": 715,
                        "passed_time": 35.94962834,
                        "remaining_time": 64.46832792,
                        "test": [
                          0.5644212727,
                          0.7660982848
                        ]
                      },
                      {
                        "learn": [
                          0.5759323721,
                          0.7613248112
                        ],
                        "iteration": 720,
                        "passed_time": 36.09831222,
                        "remaining_time": 64.03570226,
                        "test": [
                          0.5642694917,
                          0.7660487921
                        ]
                      },
                      {
                        "learn": [
                          0.5758968388,
                          0.7612864576
                        ],
                        "iteration": 725,
                        "passed_time": 36.24644842,
                        "remaining_time": 63.60602656,
                        "test": [
                          0.5642423448,
                          0.7660112274
                        ]
                      },
                      {
                        "learn": [
                          0.5757184484,
                          0.7612204039
                        ],
                        "iteration": 730,
                        "passed_time": 36.38553897,
                        "remaining_time": 63.16449924,
                        "test": [
                          0.5640587115,
                          0.7659471979
                        ]
                      },
                      {
                        "learn": [
                          0.5755425314,
                          0.7611601305
                        ],
                        "iteration": 735,
                        "passed_time": 36.5164349,
                        "remaining_time": 62.71300776,
                        "test": [
                          0.5638813521,
                          0.7658841082
                        ]
                      },
                      {
                        "learn": [
                          0.5754314672,
                          0.7610984651
                        ],
                        "iteration": 740,
                        "passed_time": 36.66003698,
                        "remaining_time": 62.28743124,
                        "test": [
                          0.5637725234,
                          0.7658206588
                        ]
                      },
                      {
                        "learn": [
                          0.5752662283,
                          0.7610235563
                        ],
                        "iteration": 745,
                        "passed_time": 36.84460164,
                        "remaining_time": 61.93449123,
                        "test": [
                          0.5636244223,
                          0.7657726449
                        ]
                      },
                      {
                        "learn": [
                          0.5750190637,
                          0.7609426942
                        ],
                        "iteration": 750,
                        "passed_time": 36.99276779,
                        "remaining_time": 61.52325829,
                        "test": [
                          0.5633750936,
                          0.7657004411
                        ]
                      },
                      {
                        "learn": [
                          0.5748237814,
                          0.7608598808
                        ],
                        "iteration": 755,
                        "passed_time": 37.13392489,
                        "remaining_time": 61.10397164,
                        "test": [
                          0.5631658216,
                          0.7656165296
                        ]
                      },
                      {
                        "learn": [
                          0.5747135014,
                          0.7608050105
                        ],
                        "iteration": 760,
                        "passed_time": 37.2791742,
                        "remaining_time": 60.6950024,
                        "test": [
                          0.563042213,
                          0.7655569587
                        ]
                      },
                      {
                        "learn": [
                          0.5746142013,
                          0.7607531893
                        ],
                        "iteration": 765,
                        "passed_time": 37.42125512,
                        "remaining_time": 60.28437183,
                        "test": [
                          0.5629525077,
                          0.7655112924
                        ]
                      },
                      {
                        "learn": [
                          0.5745293195,
                          0.7607194065
                        ],
                        "iteration": 770,
                        "passed_time": 37.56358344,
                        "remaining_time": 59.87761875,
                        "test": [
                          0.562869921,
                          0.7654846164
                        ]
                      },
                      {
                        "learn": [
                          0.5743721646,
                          0.7606573485
                        ],
                        "iteration": 775,
                        "passed_time": 37.70886836,
                        "remaining_time": 59.4789367,
                        "test": [
                          0.5627365998,
                          0.7654506494
                        ]
                      },
                      {
                        "learn": [
                          0.5742337114,
                          0.760597308
                        ],
                        "iteration": 780,
                        "passed_time": 37.88927365,
                        "remaining_time": 59.13831572,
                        "test": [
                          0.5626071395,
                          0.7653894104
                        ]
                      },
                      {
                        "learn": [
                          0.5741110039,
                          0.7605373421
                        ],
                        "iteration": 785,
                        "passed_time": 38.03558492,
                        "remaining_time": 58.7470739,
                        "test": [
                          0.5624860043,
                          0.76534066
                        ]
                      },
                      {
                        "learn": [
                          0.5739300193,
                          0.7604764989
                        ],
                        "iteration": 790,
                        "passed_time": 38.17816902,
                        "remaining_time": 58.35323179,
                        "test": [
                          0.5623048443,
                          0.7652939167
                        ]
                      },
                      {
                        "learn": [
                          0.5737445101,
                          0.760406051
                        ],
                        "iteration": 795,
                        "passed_time": 38.32086939,
                        "remaining_time": 57.96272204,
                        "test": [
                          0.5621203665,
                          0.7652381441
                        ]
                      },
                      {
                        "learn": [
                          0.5736087717,
                          0.7603444038
                        ],
                        "iteration": 800,
                        "passed_time": 38.46199676,
                        "remaining_time": 57.57295146,
                        "test": [
                          0.5619973008,
                          0.765165338
                        ]
                      },
                      {
                        "learn": [
                          0.5734656129,
                          0.7602931861
                        ],
                        "iteration": 805,
                        "passed_time": 38.60088887,
                        "remaining_time": 57.18295449,
                        "test": [
                          0.5618357469,
                          0.7651138925
                        ]
                      },
                      {
                        "learn": [
                          0.5733327099,
                          0.7602325216
                        ],
                        "iteration": 810,
                        "passed_time": 38.74233736,
                        "remaining_time": 56.79980162,
                        "test": [
                          0.5617167834,
                          0.7650708413
                        ]
                      },
                      {
                        "learn": [
                          0.5732662886,
                          0.7602080006
                        ],
                        "iteration": 815,
                        "passed_time": 38.91579853,
                        "remaining_time": 56.46606062,
                        "test": [
                          0.5616457793,
                          0.7650468703
                        ]
                      },
                      {
                        "learn": [
                          0.5731528716,
                          0.7601349882
                        ],
                        "iteration": 820,
                        "passed_time": 39.06352456,
                        "remaining_time": 56.0973148,
                        "test": [
                          0.5615440691,
                          0.7649735334
                        ]
                      },
                      {
                        "learn": [
                          0.5730417471,
                          0.7600804624
                        ],
                        "iteration": 825,
                        "passed_time": 39.20624827,
                        "remaining_time": 55.72413495,
                        "test": [
                          0.5614375328,
                          0.764942304
                        ]
                      },
                      {
                        "learn": [
                          0.5729409387,
                          0.7600281156
                        ],
                        "iteration": 830,
                        "passed_time": 39.352821,
                        "remaining_time": 55.3591429,
                        "test": [
                          0.5613406487,
                          0.7649035414
                        ]
                      },
                      {
                        "learn": [
                          0.5727946429,
                          0.7599527044
                        ],
                        "iteration": 835,
                        "passed_time": 39.49752562,
                        "remaining_time": 54.99416247,
                        "test": [
                          0.561198339,
                          0.7648502643
                        ]
                      },
                      {
                        "learn": [
                          0.5727036076,
                          0.7599106297
                        ],
                        "iteration": 840,
                        "passed_time": 39.64779267,
                        "remaining_time": 54.63946695,
                        "test": [
                          0.5611085131,
                          0.7648083814
                        ]
                      },
                      {
                        "learn": [
                          0.5725559846,
                          0.7598511653
                        ],
                        "iteration": 845,
                        "passed_time": 39.80598622,
                        "remaining_time": 54.29800011,
                        "test": [
                          0.5609596277,
                          0.7647584502
                        ]
                      },
                      {
                        "learn": [
                          0.572476291,
                          0.7598112684
                        ],
                        "iteration": 850,
                        "passed_time": 39.9736352,
                        "remaining_time": 53.9714534,
                        "test": [
                          0.5608758344,
                          0.7647297757
                        ]
                      },
                      {
                        "learn": [
                          0.5723756033,
                          0.7597642231
                        ],
                        "iteration": 855,
                        "passed_time": 40.0941651,
                        "remaining_time": 53.58379074,
                        "test": [
                          0.5607793726,
                          0.7646934479
                        ]
                      },
                      {
                        "learn": [
                          0.5722543436,
                          0.7597138
                        ],
                        "iteration": 860,
                        "passed_time": 40.23799509,
                        "remaining_time": 53.23005391,
                        "test": [
                          0.5606545575,
                          0.7646331739
                        ]
                      },
                      {
                        "learn": [
                          0.5721484073,
                          0.759663175
                        ],
                        "iteration": 865,
                        "passed_time": 40.38429256,
                        "remaining_time": 52.88197201,
                        "test": [
                          0.5605749267,
                          0.7645915947
                        ]
                      },
                      {
                        "learn": [
                          0.5720562862,
                          0.7596174707
                        ],
                        "iteration": 870,
                        "passed_time": 40.52437706,
                        "remaining_time": 52.5281535,
                        "test": [
                          0.5604991569,
                          0.7645612176
                        ]
                      },
                      {
                        "learn": [
                          0.5719796091,
                          0.7595652111
                        ],
                        "iteration": 875,
                        "passed_time": 40.66890841,
                        "remaining_time": 52.18248065,
                        "test": [
                          0.5604448632,
                          0.7645332065
                        ]
                      },
                      {
                        "learn": [
                          0.5719520994,
                          0.7595223205
                        ],
                        "iteration": 880,
                        "passed_time": 40.83496816,
                        "remaining_time": 51.86643516,
                        "test": [
                          0.5604332202,
                          0.7645061017
                        ]
                      },
                      {
                        "learn": [
                          0.5718424831,
                          0.7594640968
                        ],
                        "iteration": 885,
                        "passed_time": 40.98963979,
                        "remaining_time": 51.5377638,
                        "test": [
                          0.5603584759,
                          0.7644788777
                        ]
                      },
                      {
                        "learn": [
                          0.571691361,
                          0.7593955014
                        ],
                        "iteration": 890,
                        "passed_time": 41.12826831,
                        "remaining_time": 51.19107695,
                        "test": [
                          0.5602243705,
                          0.7644235191
                        ]
                      },
                      {
                        "learn": [
                          0.5716377896,
                          0.7593502576
                        ],
                        "iteration": 895,
                        "passed_time": 41.28195991,
                        "remaining_time": 50.86527204,
                        "test": [
                          0.5601974649,
                          0.7643914385
                        ]
                      },
                      {
                        "learn": [
                          0.5715491675,
                          0.7593067591
                        ],
                        "iteration": 900,
                        "passed_time": 41.6421631,
                        "remaining_time": 50.79327109,
                        "test": [
                          0.5601212728,
                          0.7643640526
                        ]
                      },
                      {
                        "learn": [
                          0.5714837114,
                          0.7592564248
                        ],
                        "iteration": 905,
                        "passed_time": 42.29176993,
                        "remaining_time": 51.06754559,
                        "test": [
                          0.5600817591,
                          0.7643312197
                        ]
                      },
                      {
                        "learn": [
                          0.5714460063,
                          0.7592301241
                        ],
                        "iteration": 910,
                        "passed_time": 42.76076518,
                        "remaining_time": 51.11577747,
                        "test": [
                          0.5600496655,
                          0.7643151579
                        ]
                      },
                      {
                        "learn": [
                          0.5713450169,
                          0.7591788708
                        ],
                        "iteration": 915,
                        "passed_time": 43.33597672,
                        "remaining_time": 51.28405979,
                        "test": [
                          0.5599436721,
                          0.7642681939
                        ]
                      },
                      {
                        "learn": [
                          0.5712295487,
                          0.7591291638
                        ],
                        "iteration": 920,
                        "passed_time": 43.76512006,
                        "remaining_time": 51.27314283,
                        "test": [
                          0.5598107732,
                          0.7642197272
                        ]
                      },
                      {
                        "learn": [
                          0.5711007481,
                          0.7590847386
                        ],
                        "iteration": 925,
                        "passed_time": 44.37353755,
                        "remaining_time": 51.46563642,
                        "test": [
                          0.5596978423,
                          0.7641920983
                        ]
                      },
                      {
                        "learn": [
                          0.571011221,
                          0.7590235802
                        ],
                        "iteration": 930,
                        "passed_time": 44.67477175,
                        "remaining_time": 51.29681096,
                        "test": [
                          0.5596390242,
                          0.7641470609
                        ]
                      },
                      {
                        "learn": [
                          0.5708965975,
                          0.7589384907
                        ],
                        "iteration": 935,
                        "passed_time": 44.82989361,
                        "remaining_time": 50.96047736,
                        "test": [
                          0.559565969,
                          0.7640944022
                        ]
                      },
                      {
                        "learn": [
                          0.570828125,
                          0.7589087608
                        ],
                        "iteration": 940,
                        "passed_time": 44.99791471,
                        "remaining_time": 50.64058627,
                        "test": [
                          0.5595030487,
                          0.7640668476
                        ]
                      },
                      {
                        "learn": [
                          0.5707513272,
                          0.7588753729
                        ],
                        "iteration": 945,
                        "passed_time": 45.16147851,
                        "remaining_time": 50.31733441,
                        "test": [
                          0.5594316826,
                          0.7640449375
                        ]
                      },
                      {
                        "learn": [
                          0.5706632481,
                          0.7588172187
                        ],
                        "iteration": 950,
                        "passed_time": 45.30023149,
                        "remaining_time": 49.96839415,
                        "test": [
                          0.5593551888,
                          0.764000839
                        ]
                      },
                      {
                        "learn": [
                          0.5705776424,
                          0.7587916183
                        ],
                        "iteration": 955,
                        "passed_time": 45.43061597,
                        "remaining_time": 49.61251367,
                        "test": [
                          0.5592684396,
                          0.7639713465
                        ]
                      },
                      {
                        "learn": [
                          0.5704857022,
                          0.7587570724
                        ],
                        "iteration": 960,
                        "passed_time": 45.57152967,
                        "remaining_time": 49.2703635,
                        "test": [
                          0.5591886882,
                          0.7639434717
                        ]
                      },
                      {
                        "learn": [
                          0.5703838682,
                          0.7586912359
                        ],
                        "iteration": 965,
                        "passed_time": 45.71895632,
                        "remaining_time": 48.93726794,
                        "test": [
                          0.5591030851,
                          0.7638919834
                        ]
                      },
                      {
                        "learn": [
                          0.5703063465,
                          0.7586597071
                        ],
                        "iteration": 970,
                        "passed_time": 45.85634562,
                        "remaining_time": 48.59544763,
                        "test": [
                          0.5590410697,
                          0.763875715
                        ]
                      },
                      {
                        "learn": [
                          0.5702095801,
                          0.7586049957
                        ],
                        "iteration": 975,
                        "passed_time": 46.01405803,
                        "remaining_time": 48.27704449,
                        "test": [
                          0.5589513041,
                          0.7638242617
                        ]
                      },
                      {
                        "learn": [
                          0.5701612572,
                          0.7585799449
                        ],
                        "iteration": 980,
                        "passed_time": 46.17472746,
                        "remaining_time": 47.96335095,
                        "test": [
                          0.5589136605,
                          0.7638045956
                        ]
                      },
                      {
                        "learn": [
                          0.5700309484,
                          0.7585182288
                        ],
                        "iteration": 985,
                        "passed_time": 46.31684587,
                        "remaining_time": 47.63213155,
                        "test": [
                          0.5587936111,
                          0.7637433431
                        ]
                      },
                      {
                        "learn": [
                          0.5699741795,
                          0.7584843465
                        ],
                        "iteration": 990,
                        "passed_time": 46.45670502,
                        "remaining_time": 47.30052004,
                        "test": [
                          0.5587452897,
                          0.7637114314
                        ]
                      },
                      {
                        "learn": [
                          0.5699446187,
                          0.7584563487
                        ],
                        "iteration": 995,
                        "passed_time": 46.59908572,
                        "remaining_time": 46.97337556,
                        "test": [
                          0.5587192287,
                          0.7636923943
                        ]
                      },
                      {
                        "learn": [
                          0.5698405526,
                          0.7583931907
                        ],
                        "iteration": 1000,
                        "passed_time": 46.74657365,
                        "remaining_time": 46.65317391,
                        "test": [
                          0.5586452687,
                          0.7636501319
                        ]
                      },
                      {
                        "learn": [
                          0.5697820946,
                          0.7583553252
                        ],
                        "iteration": 1005,
                        "passed_time": 46.89151251,
                        "remaining_time": 46.33217041,
                        "test": [
                          0.558596887,
                          0.7636230353
                        ]
                      },
                      {
                        "learn": [
                          0.5696789937,
                          0.7582988416
                        ],
                        "iteration": 1010,
                        "passed_time": 47.05862008,
                        "remaining_time": 46.03459472,
                        "test": [
                          0.5585061562,
                          0.7635920272
                        ]
                      },
                      {
                        "learn": [
                          0.5696160111,
                          0.7582659042
                        ],
                        "iteration": 1015,
                        "passed_time": 47.22042031,
                        "remaining_time": 45.73316297,
                        "test": [
                          0.5584597652,
                          0.7635569884
                        ]
                      },
                      {
                        "learn": [
                          0.5695390323,
                          0.7582222639
                        ],
                        "iteration": 1020,
                        "passed_time": 47.36024764,
                        "remaining_time": 45.41202982,
                        "test": [
                          0.5584036014,
                          0.7635250294
                        ]
                      },
                      {
                        "learn": [
                          0.5694905888,
                          0.7581687145
                        ],
                        "iteration": 1025,
                        "passed_time": 47.50525344,
                        "remaining_time": 45.09757978,
                        "test": [
                          0.5583748861,
                          0.7634823231
                        ]
                      },
                      {
                        "learn": [
                          0.5694209701,
                          0.7581312357
                        ],
                        "iteration": 1030,
                        "passed_time": 47.64838877,
                        "remaining_time": 44.78301525,
                        "test": [
                          0.558303882,
                          0.7634480695
                        ]
                      },
                      {
                        "learn": [
                          0.5693599783,
                          0.75810036
                        ],
                        "iteration": 1035,
                        "passed_time": 47.78745642,
                        "remaining_time": 44.46632046,
                        "test": [
                          0.5582475372,
                          0.7634168172
                        ]
                      },
                      {
                        "learn": [
                          0.5693176279,
                          0.7580715124
                        ],
                        "iteration": 1040,
                        "passed_time": 47.94657178,
                        "remaining_time": 44.16980052,
                        "test": [
                          0.5582122463,
                          0.763397022
                        ]
                      },
                      {
                        "learn": [
                          0.5692518098,
                          0.7580460062
                        ],
                        "iteration": 1045,
                        "passed_time": 48.08853993,
                        "remaining_time": 43.85895516,
                        "test": [
                          0.558160969,
                          0.7633766732
                        ]
                      },
                      {
                        "learn": [
                          0.5691975748,
                          0.7580008013
                        ],
                        "iteration": 1050,
                        "passed_time": 48.24873285,
                        "remaining_time": 43.56617267,
                        "test": [
                          0.558132133,
                          0.7633562448
                        ]
                      },
                      {
                        "learn": [
                          0.569124638,
                          0.7579683683
                        ],
                        "iteration": 1055,
                        "passed_time": 48.39125209,
                        "remaining_time": 43.25884657,
                        "test": [
                          0.5580608273,
                          0.7633386609
                        ]
                      },
                      {
                        "learn": [
                          0.5690614141,
                          0.7579401126
                        ],
                        "iteration": 1060,
                        "passed_time": 48.53030186,
                        "remaining_time": 42.95000325,
                        "test": [
                          0.5580073178,
                          0.7633176783
                        ]
                      },
                      {
                        "learn": [
                          0.5690100748,
                          0.7578873393
                        ],
                        "iteration": 1065,
                        "passed_time": 48.67481683,
                        "remaining_time": 42.6475412,
                        "test": [
                          0.5579789041,
                          0.763290807
                        ]
                      },
                      {
                        "learn": [
                          0.5689350869,
                          0.7578334877
                        ],
                        "iteration": 1070,
                        "passed_time": 48.81916596,
                        "remaining_time": 42.34641006,
                        "test": [
                          0.5579448801,
                          0.763267531
                        ]
                      },
                      {
                        "learn": [
                          0.5689022683,
                          0.7578097647
                        ],
                        "iteration": 1075,
                        "passed_time": 48.9845718,
                        "remaining_time": 42.06481817,
                        "test": [
                          0.557925455,
                          0.7632536204
                        ]
                      },
                      {
                        "learn": [
                          0.5688100869,
                          0.7577691632
                        ],
                        "iteration": 1080,
                        "passed_time": 49.12703576,
                        "remaining_time": 41.76479728,
                        "test": [
                          0.5578556575,
                          0.7632346509
                        ]
                      },
                      {
                        "learn": [
                          0.5687701496,
                          0.7577388301
                        ],
                        "iteration": 1085,
                        "passed_time": 49.29501976,
                        "remaining_time": 41.4877054,
                        "test": [
                          0.5578325525,
                          0.7632135469
                        ]
                      },
                      {
                        "learn": [
                          0.5687034266,
                          0.7577073015
                        ],
                        "iteration": 1090,
                        "passed_time": 49.43770842,
                        "remaining_time": 41.190538,
                        "test": [
                          0.5577745185,
                          0.7631870276
                        ]
                      },
                      {
                        "learn": [
                          0.5686673504,
                          0.7576742189
                        ],
                        "iteration": 1095,
                        "passed_time": 49.58235785,
                        "remaining_time": 40.89639735,
                        "test": [
                          0.5577734327,
                          0.7631690841
                        ]
                      },
                      {
                        "learn": [
                          0.5686066602,
                          0.757640259
                        ],
                        "iteration": 1100,
                        "passed_time": 49.72561803,
                        "remaining_time": 40.60248012,
                        "test": [
                          0.5577080389,
                          0.7631418124
                        ]
                      },
                      {
                        "learn": [
                          0.5685883205,
                          0.757612867
                        ],
                        "iteration": 1105,
                        "passed_time": 49.87338785,
                        "remaining_time": 40.31357029,
                        "test": [
                          0.5577005585,
                          0.7631230773
                        ]
                      },
                      {
                        "learn": [
                          0.5685342061,
                          0.7575797007
                        ],
                        "iteration": 1110,
                        "passed_time": 50.03518732,
                        "remaining_time": 40.03715709,
                        "test": [
                          0.5576615273,
                          0.7631078597
                        ]
                      },
                      {
                        "learn": [
                          0.5684875121,
                          0.757557443
                        ],
                        "iteration": 1115,
                        "passed_time": 50.17811237,
                        "remaining_time": 39.7468202,
                        "test": [
                          0.5576366126,
                          0.763094381
                        ]
                      },
                      {
                        "learn": [
                          0.5684161438,
                          0.7575133637
                        ],
                        "iteration": 1120,
                        "passed_time": 50.34560365,
                        "remaining_time": 39.4770612,
                        "test": [
                          0.5575804488,
                          0.7630667903
                        ]
                      },
                      {
                        "learn": [
                          0.5683877896,
                          0.7574860069
                        ],
                        "iteration": 1125,
                        "passed_time": 50.4893355,
                        "remaining_time": 39.18976841,
                        "test": [
                          0.5575596362,
                          0.763046907
                        ]
                      },
                      {
                        "learn": [
                          0.5683735521,
                          0.7574594855
                        ],
                        "iteration": 1130,
                        "passed_time": 50.63712977,
                        "remaining_time": 38.90686629,
                        "test": [
                          0.557549984,
                          0.7630278929
                        ]
                      },
                      {
                        "learn": [
                          0.5683371742,
                          0.7574202989
                        ],
                        "iteration": 1135,
                        "passed_time": 50.78275908,
                        "remaining_time": 38.6235069,
                        "test": [
                          0.557529835,
                          0.7630086411
                        ]
                      },
                      {
                        "learn": [
                          0.5683026062,
                          0.7573904297
                        ],
                        "iteration": 1140,
                        "passed_time": 50.92977489,
                        "remaining_time": 38.34239845,
                        "test": [
                          0.5575017832,
                          0.7629890726
                        ]
                      },
                      {
                        "learn": [
                          0.5682492761,
                          0.7573588069
                        ],
                        "iteration": 1145,
                        "passed_time": 51.08767836,
                        "remaining_time": 38.07057358,
                        "test": [
                          0.5574437493,
                          0.7629588689
                        ]
                      },
                      {
                        "learn": [
                          0.5682234556,
                          0.7573469779
                        ],
                        "iteration": 1150,
                        "passed_time": 51.22871592,
                        "remaining_time": 37.78729784,
                        "test": [
                          0.5574238416,
                          0.7629497364
                        ]
                      },
                      {
                        "learn": [
                          0.5682033663,
                          0.7573327988
                        ],
                        "iteration": 1155,
                        "passed_time": 51.38667118,
                        "remaining_time": 37.51760422,
                        "test": [
                          0.5574051405,
                          0.7629368083
                        ]
                      },
                      {
                        "learn": [
                          0.5681701858,
                          0.7572954379
                        ],
                        "iteration": 1160,
                        "passed_time": 51.53140237,
                        "remaining_time": 37.23931661,
                        "test": [
                          0.5573944627,
                          0.7629234847
                        ]
                      },
                      {
                        "learn": [
                          0.5681034628,
                          0.7572522197
                        ],
                        "iteration": 1165,
                        "passed_time": 51.67734349,
                        "remaining_time": 36.96303985,
                        "test": [
                          0.5573412549,
                          0.7629044675
                        ]
                      },
                      {
                        "learn": [
                          0.5680677486,
                          0.7572248137
                        ],
                        "iteration": 1170,
                        "passed_time": 51.82132505,
                        "remaining_time": 36.68648887,
                        "test": [
                          0.5573311201,
                          0.7628886525
                        ]
                      },
                      {
                        "learn": [
                          0.568016168,
                          0.7571899572
                        ],
                        "iteration": 1175,
                        "passed_time": 51.96887522,
                        "remaining_time": 36.41356563,
                        "test": [
                          0.5572925112,
                          0.7628805076
                        ]
                      },
                      {
                        "learn": [
                          0.5680009653,
                          0.7571589236
                        ],
                        "iteration": 1180,
                        "passed_time": 52.13416469,
                        "remaining_time": 36.15400583,
                        "test": [
                          0.5572853324,
                          0.7628618847
                        ]
                      },
                      {
                        "learn": [
                          0.5679653113,
                          0.7571319126
                        ],
                        "iteration": 1185,
                        "passed_time": 52.3174808,
                        "remaining_time": 35.90761329,
                        "test": [
                          0.5572526355,
                          0.7628391096
                        ]
                      },
                      {
                        "learn": [
                          0.5679470922,
                          0.7571037453
                        ],
                        "iteration": 1190,
                        "passed_time": 52.45402525,
                        "remaining_time": 35.62998021,
                        "test": [
                          0.5572606589,
                          0.7628351556
                        ]
                      },
                      {
                        "learn": [
                          0.5679162645,
                          0.7570697199
                        ],
                        "iteration": 1195,
                        "passed_time": 52.60234722,
                        "remaining_time": 35.36144412,
                        "test": [
                          0.5572496795,
                          0.7628152662
                        ]
                      },
                      {
                        "learn": [
                          0.5678445343,
                          0.7570470886
                        ],
                        "iteration": 1200,
                        "passed_time": 52.74179416,
                        "remaining_time": 35.08800461,
                        "test": [
                          0.5571912837,
                          0.7628059343
                        ]
                      },
                      {
                        "learn": [
                          0.56780514,
                          0.7570263294
                        ],
                        "iteration": 1205,
                        "passed_time": 52.8896304,
                        "remaining_time": 34.82119945,
                        "test": [
                          0.5571627493,
                          0.7627894845
                        ]
                      },
                      {
                        "learn": [
                          0.5677411921,
                          0.7569895113
                        ],
                        "iteration": 1210,
                        "passed_time": 53.05072992,
                        "remaining_time": 34.56401809,
                        "test": [
                          0.5571065855,
                          0.7627535784
                        ]
                      },
                      {
                        "learn": [
                          0.5676964286,
                          0.7569714602
                        ],
                        "iteration": 1215,
                        "passed_time": 53.19713102,
                        "remaining_time": 34.29815026,
                        "test": [
                          0.5570727424,
                          0.7627440084
                        ]
                      },
                      {
                        "learn": [
                          0.567628861,
                          0.7569226045
                        ],
                        "iteration": 1220,
                        "passed_time": 53.36308519,
                        "remaining_time": 34.04573576,
                        "test": [
                          0.5570097618,
                          0.7627072697
                        ]
                      },
                      {
                        "learn": [
                          0.5675612934,
                          0.7568913208
                        ],
                        "iteration": 1225,
                        "passed_time": 53.50178234,
                        "remaining_time": 33.77681854,
                        "test": [
                          0.5569596306,
                          0.7626929138
                        ]
                      },
                      {
                        "learn": [
                          0.5675092302,
                          0.7568483983
                        ],
                        "iteration": 1230,
                        "passed_time": 53.65211505,
                        "remaining_time": 33.51622784,
                        "test": [
                          0.556921987,
                          0.7626780831
                        ]
                      },
                      {
                        "learn": [
                          0.567456624,
                          0.756818108
                        ],
                        "iteration": 1235,
                        "passed_time": 53.80502797,
                        "remaining_time": 33.25812408,
                        "test": [
                          0.5568686585,
                          0.7626505565
                        ]
                      },
                      {
                        "learn": [
                          0.5674341216,
                          0.7568062307
                        ],
                        "iteration": 1240,
                        "passed_time": 53.94925533,
                        "remaining_time": 32.99555584,
                        "test": [
                          0.5568493541,
                          0.7626445843
                        ]
                      },
                      {
                        "learn": [
                          0.5673849542,
                          0.7567802434
                        ],
                        "iteration": 1245,
                        "passed_time": 54.11354153,
                        "remaining_time": 32.7460757,
                        "test": [
                          0.5568027822,
                          0.7626170961
                        ]
                      },
                      {
                        "learn": [
                          0.5673525579,
                          0.7567498707
                        ],
                        "iteration": 1250,
                        "passed_time": 54.25926063,
                        "remaining_time": 32.48616004,
                        "test": [
                          0.556783719,
                          0.7625999302
                        ]
                      },
                      {
                        "learn": [
                          0.5672941602,
                          0.7566977718
                        ],
                        "iteration": 1255,
                        "passed_time": 54.42137801,
                        "remaining_time": 32.23686723,
                        "test": [
                          0.5567384743,
                          0.7625689596
                        ]
                      },
                      {
                        "learn": [
                          0.5672388393,
                          0.7566706248
                        ],
                        "iteration": 1260,
                        "passed_time": 54.64329727,
                        "remaining_time": 32.0233122,
                        "test": [
                          0.5566873779,
                          0.7625520695
                        ]
                      },
                      {
                        "learn": [
                          0.5672019788,
                          0.7566161284
                        ],
                        "iteration": 1265,
                        "passed_time": 55.10998869,
                        "remaining_time": 31.95160482,
                        "test": [
                          0.5566778463,
                          0.7625352978
                        ]
                      },
                      {
                        "learn": [
                          0.5671353161,
                          0.7565969521
                        ],
                        "iteration": 1270,
                        "passed_time": 55.43316387,
                        "remaining_time": 31.79447401,
                        "test": [
                          0.5566128749,
                          0.7625227979
                        ]
                      },
                      {
                        "learn": [
                          0.5670805985,
                          0.7565635817
                        ],
                        "iteration": 1275,
                        "passed_time": 55.9618042,
                        "remaining_time": 31.75262245,
                        "test": [
                          0.556588684,
                          0.7625113658
                        ]
                      },
                      {
                        "learn": [
                          0.5670403596,
                          0.7565343964
                        ],
                        "iteration": 1280,
                        "passed_time": 56.23024877,
                        "remaining_time": 31.56092807,
                        "test": [
                          0.5565642519,
                          0.7625019906
                        ]
                      },
                      {
                        "learn": [
                          0.5669680864,
                          0.7565097954
                        ],
                        "iteration": 1285,
                        "passed_time": 56.55512826,
                        "remaining_time": 31.39997012,
                        "test": [
                          0.5565087517,
                          0.7624893714
                        ]
                      },
                      {
                        "learn": [
                          0.5669396115,
                          0.7564863498
                        ],
                        "iteration": 1290,
                        "passed_time": 56.83372738,
                        "remaining_time": 31.21232588,
                        "test": [
                          0.556499763,
                          0.7624839914
                        ]
                      },
                      {
                        "learn": [
                          0.5668776544,
                          0.7564449596
                        ],
                        "iteration": 1295,
                        "passed_time": 57.46463022,
                        "remaining_time": 31.21535469,
                        "test": [
                          0.5564493302,
                          0.7624640929
                        ]
                      },
                      {
                        "learn": [
                          0.5668410352,
                          0.7564237053
                        ],
                        "iteration": 1300,
                        "passed_time": 57.87160987,
                        "remaining_time": 31.09320161,
                        "test": [
                          0.5564267079,
                          0.7624557061
                        ]
                      },
                      {
                        "learn": [
                          0.566801279,
                          0.7563897291
                        ],
                        "iteration": 1305,
                        "passed_time": 58.03934158,
                        "remaining_time": 30.84173282,
                        "test": [
                          0.5563877974,
                          0.762424334
                        ]
                      },
                      {
                        "learn": [
                          0.5667616433,
                          0.756365243
                        ],
                        "iteration": 1310,
                        "passed_time": 58.21673597,
                        "remaining_time": 30.59598099,
                        "test": [
                          0.5563576945,
                          0.7624164215
                        ]
                      },
                      {
                        "learn": [
                          0.5667158542,
                          0.7563394001
                        ],
                        "iteration": 1315,
                        "passed_time": 58.35560155,
                        "remaining_time": 30.33072299,
                        "test": [
                          0.5563199906,
                          0.7623952552
                        ]
                      },
                      {
                        "learn": [
                          0.5666728403,
                          0.7563188209
                        ],
                        "iteration": 1320,
                        "passed_time": 58.51705469,
                        "remaining_time": 30.0780319,
                        "test": [
                          0.5562902497,
                          0.7623892415
                        ]
                      },
                      {
                        "learn": [
                          0.5666652992,
                          0.756299996
                        ],
                        "iteration": 1325,
                        "passed_time": 58.6594167,
                        "remaining_time": 29.81632493,
                        "test": [
                          0.5562923611,
                          0.7623805374
                        ]
                      },
                      {
                        "learn": [
                          0.5666037042,
                          0.7562513761
                        ],
                        "iteration": 1330,
                        "passed_time": 58.80513624,
                        "remaining_time": 29.55720221,
                        "test": [
                          0.5562488659,
                          0.7623512987
                        ]
                      },
                      {
                        "learn": [
                          0.5665609315,
                          0.7562374955
                        ],
                        "iteration": 1335,
                        "passed_time": 58.94913759,
                        "remaining_time": 29.29807437,
                        "test": [
                          0.5562154451,
                          0.7623463134
                        ]
                      },
                      {
                        "learn": [
                          0.5665226834,
                          0.75621815
                        ],
                        "iteration": 1340,
                        "passed_time": 59.09981152,
                        "remaining_time": 29.04308411,
                        "test": [
                          0.5561978901,
                          0.7623442559
                        ]
                      },
                      {
                        "learn": [
                          0.5664640444,
                          0.7561830876
                        ],
                        "iteration": 1345,
                        "passed_time": 59.26359803,
                        "remaining_time": 28.79524005,
                        "test": [
                          0.5561581954,
                          0.7623267674
                        ]
                      },
                      {
                        "learn": [
                          0.5664381033,
                          0.7561604697
                        ],
                        "iteration": 1350,
                        "passed_time": 59.40271827,
                        "remaining_time": 28.53616888,
                        "test": [
                          0.5561324964,
                          0.7623056382
                        ]
                      },
                      {
                        "learn": [
                          0.5664170487,
                          0.7561506963
                        ],
                        "iteration": 1355,
                        "passed_time": 59.5563581,
                        "remaining_time": 28.28487803,
                        "test": [
                          0.5561174148,
                          0.7622995447
                        ]
                      },
                      {
                        "learn": [
                          0.5663889961,
                          0.7561248461
                        ],
                        "iteration": 1360,
                        "passed_time": 59.70350159,
                        "remaining_time": 28.0312546,
                        "test": [
                          0.5561073403,
                          0.762292541
                        ]
                      },
                      {
                        "learn": [
                          0.5663730695,
                          0.7561037424
                        ],
                        "iteration": 1365,
                        "passed_time": 59.84138177,
                        "remaining_time": 27.7741113,
                        "test": [
                          0.5560966626,
                          0.7622803932
                        ]
                      },
                      {
                        "learn": [
                          0.5663521356,
                          0.7560764543
                        ],
                        "iteration": 1370,
                        "passed_time": 59.98680768,
                        "remaining_time": 27.5212998,
                        "test": [
                          0.5560903283,
                          0.7622666624
                        ]
                      },
                      {
                        "learn": [
                          0.5663128016,
                          0.7560464123
                        ],
                        "iteration": 1375,
                        "passed_time": 60.13726401,
                        "remaining_time": 27.27154996,
                        "test": [
                          0.5560564852,
                          0.7622530501
                        ]
                      },
                      {
                        "learn": [
                          0.5662679778,
                          0.7560115813
                        ],
                        "iteration": 1380,
                        "passed_time": 60.29760018,
                        "remaining_time": 27.02694751,
                        "test": [
                          0.5560365172,
                          0.7622387648
                        ]
                      },
                      {
                        "learn": [
                          0.5662201375,
                          0.7559875618
                        ],
                        "iteration": 1385,
                        "passed_time": 60.44673053,
                        "remaining_time": 26.77798885,
                        "test": [
                          0.5560000198,
                          0.7622349659
                        ]
                      },
                      {
                        "learn": [
                          0.5661904561,
                          0.7559694468
                        ],
                        "iteration": 1390,
                        "passed_time": 60.60817789,
                        "remaining_time": 26.53514043,
                        "test": [
                          0.555978061,
                          0.7622240835
                        ]
                      },
                      {
                        "learn": [
                          0.5661458132,
                          0.7559249158
                        ],
                        "iteration": 1395,
                        "passed_time": 60.75368644,
                        "remaining_time": 26.28597895,
                        "test": [
                          0.5559456658,
                          0.7621851431
                        ]
                      },
                      {
                        "learn": [
                          0.5661158301,
                          0.7558943889
                        ],
                        "iteration": 1400,
                        "passed_time": 60.89487895,
                        "remaining_time": 26.03571199,
                        "test": [
                          0.5559399951,
                          0.7621727166
                        ]
                      },
                      {
                        "learn": [
                          0.5660960425,
                          0.7558811403
                        ],
                        "iteration": 1405,
                        "passed_time": 61.03492766,
                        "remaining_time": 25.78573758,
                        "test": [
                          0.5559330576,
                          0.7621698672
                        ]
                      },
                      {
                        "learn": [
                          0.5660749276,
                          0.7558632623
                        ],
                        "iteration": 1410,
                        "passed_time": 61.17554547,
                        "remaining_time": 25.53677979,
                        "test": [
                          0.5559223195,
                          0.762167651
                        ]
                      },
                      {
                        "learn": [
                          0.5660383084,
                          0.7558322939
                        ],
                        "iteration": 1415,
                        "passed_time": 61.34695217,
                        "remaining_time": 25.30128536,
                        "test": [
                          0.5559049455,
                          0.7621565302
                        ]
                      },
                      {
                        "learn": [
                          0.5660290179,
                          0.7558059539
                        ],
                        "iteration": 1420,
                        "passed_time": 61.49788993,
                        "remaining_time": 25.05790167,
                        "test": [
                          0.555906514,
                          0.7621468736
                        ]
                      },
                      {
                        "learn": [
                          0.5660214768,
                          0.7557788946
                        ],
                        "iteration": 1425,
                        "passed_time": 61.66264113,
                        "remaining_time": 24.82072651,
                        "test": [
                          0.5559142358,
                          0.7621257394
                        ]
                      },
                      {
                        "learn": [
                          0.5659589768,
                          0.7557321171
                        ],
                        "iteration": 1430,
                        "passed_time": 61.81568518,
                        "remaining_time": 24.57940242,
                        "test": [
                          0.5558706198,
                          0.7620988657
                        ]
                      },
                      {
                        "learn": [
                          0.5659546332,
                          0.7557163909
                        ],
                        "iteration": 1435,
                        "passed_time": 61.9578028,
                        "remaining_time": 24.33440166,
                        "test": [
                          0.555883771,
                          0.7620987074
                        ]
                      },
                      {
                        "learn": [
                          0.5659410594,
                          0.7557011434
                        ],
                        "iteration": 1440,
                        "passed_time": 62.10114763,
                        "remaining_time": 24.09059093,
                        "test": [
                          0.5558813579,
                          0.7620906332
                        ]
                      },
                      {
                        "learn": [
                          0.5659367157,
                          0.7556865742
                        ],
                        "iteration": 1445,
                        "passed_time": 62.26614527,
                        "remaining_time": 23.85577073,
                        "test": [
                          0.5558836503,
                          0.7620880209
                        ]
                      },
                      {
                        "learn": [
                          0.5659006395,
                          0.7556615862
                        ],
                        "iteration": 1450,
                        "passed_time": 62.42919109,
                        "remaining_time": 23.62069325,
                        "test": [
                          0.5558689307,
                          0.7620838255
                        ]
                      },
                      {
                        "learn": [
                          0.5658727075,
                          0.7556359189
                        ],
                        "iteration": 1455,
                        "passed_time": 62.59886091,
                        "remaining_time": 23.3885854,
                        "test": [
                          0.5558539698,
                          0.7620783634
                        ]
                      },
                      {
                        "learn": [
                          0.5658372949,
                          0.7556118474
                        ],
                        "iteration": 1460,
                        "passed_time": 62.74084971,
                        "remaining_time": 23.14669267,
                        "test": [
                          0.5558345447,
                          0.7620734951
                        ]
                      },
                      {
                        "learn": [
                          0.5658137669,
                          0.7555933243
                        ],
                        "iteration": 1465,
                        "passed_time": 62.88843383,
                        "remaining_time": 22.90751955,
                        "test": [
                          0.5558261593,
                          0.7620721493
                        ]
                      },
                      {
                        "learn": [
                          0.565780707,
                          0.7555647003
                        ],
                        "iteration": 1470,
                        "passed_time": 63.03198963,
                        "remaining_time": 22.6675204,
                        "test": [
                          0.5558153006,
                          0.7620604334
                        ]
                      },
                      {
                        "learn": [
                          0.565765625,
                          0.7555315639
                        ],
                        "iteration": 1475,
                        "passed_time": 63.17953359,
                        "remaining_time": 22.42959052,
                        "test": [
                          0.5558073375,
                          0.7620423051
                        ]
                      },
                      {
                        "learn": [
                          0.5657640565,
                          0.7555061716
                        ],
                        "iteration": 1480,
                        "passed_time": 63.34193646,
                        "remaining_time": 22.19747807,
                        "test": [
                          0.5558137924,
                          0.762035022
                        ]
                      },
                      {
                        "learn": [
                          0.5657331684,
                          0.7554843319
                        ],
                        "iteration": 1485,
                        "passed_time": 63.53517822,
                        "remaining_time": 21.97650175,
                        "test": [
                          0.555806131,
                          0.7620347449
                        ]
                      },
                      {
                        "learn": [
                          0.5657040903,
                          0.7554590179
                        ],
                        "iteration": 1490,
                        "passed_time": 63.70118301,
                        "remaining_time": 21.74641325,
                        "test": [
                          0.5557878521,
                          0.7620192284
                        ]
                      },
                      {
                        "learn": [
                          0.5657037283,
                          0.7554497545
                        ],
                        "iteration": 1495,
                        "passed_time": 63.83692531,
                        "remaining_time": 21.50655773,
                        "test": [
                          0.5557920146,
                          0.7620172888
                        ]
                      },
                      {
                        "learn": [
                          0.5657028837,
                          0.7554392931
                        ],
                        "iteration": 1500,
                        "passed_time": 63.97481615,
                        "remaining_time": 21.2681101,
                        "test": [
                          0.5557973837,
                          0.762011193
                        ]
                      },
                      {
                        "learn": [
                          0.5656944377,
                          0.7554262761
                        ],
                        "iteration": 1505,
                        "passed_time": 64.12148172,
                        "remaining_time": 21.03320848,
                        "test": [
                          0.5557923766,
                          0.7620095701
                        ]
                      },
                      {
                        "learn": [
                          0.5656575169,
                          0.7554013594
                        ],
                        "iteration": 1510,
                        "passed_time": 64.26134538,
                        "remaining_time": 20.79668954,
                        "test": [
                          0.5557678841,
                          0.7619947656
                        ]
                      },
                      {
                        "learn": [
                          0.5656242157,
                          0.755378159
                        ],
                        "iteration": 1515,
                        "passed_time": 64.42563805,
                        "remaining_time": 20.5686074,
                        "test": [
                          0.5557521993,
                          0.7619858986
                        ]
                      },
                      {
                        "learn": [
                          0.5655965854,
                          0.7553441758
                        ],
                        "iteration": 1520,
                        "passed_time": 64.56857362,
                        "remaining_time": 20.33421878,
                        "test": [
                          0.55573754,
                          0.7619724792
                        ]
                      },
                      {
                        "learn": [
                          0.5655759532,
                          0.755333074
                        ],
                        "iteration": 1525,
                        "passed_time": 64.72979533,
                        "remaining_time": 20.10610943,
                        "test": [
                          0.5557194421,
                          0.7619661455
                        ]
                      },
                      {
                        "learn": [
                          0.5655754102,
                          0.7553183379
                        ],
                        "iteration": 1530,
                        "passed_time": 64.85984428,
                        "remaining_time": 19.86888763,
                        "test": [
                          0.5557278877,
                          0.7619552989
                        ]
                      },
                      {
                        "learn": [
                          0.5655404802,
                          0.7552866683
                        ],
                        "iteration": 1535,
                        "passed_time": 65.00081367,
                        "remaining_time": 19.63566246,
                        "test": [
                          0.555713892,
                          0.7619428686
                        ]
                      },
                      {
                        "learn": [
                          0.5655279319,
                          0.7552693353
                        ],
                        "iteration": 1540,
                        "passed_time": 65.14413829,
                        "remaining_time": 19.40373749,
                        "test": [
                          0.5557085833,
                          0.7619333676
                        ]
                      },
                      {
                        "learn": [
                          0.5654868485,
                          0.7552341889
                        ],
                        "iteration": 1545,
                        "passed_time": 65.30044435,
                        "remaining_time": 19.17619776,
                        "test": [
                          0.5556750419,
                          0.7619181658
                        ]
                      },
                      {
                        "learn": [
                          0.5654826255,
                          0.7552178532
                        ],
                        "iteration": 1550,
                        "passed_time": 65.46368182,
                        "remaining_time": 18.95112388,
                        "test": [
                          0.5556875294,
                          0.7619134944
                        ]
                      },
                      {
                        "learn": [
                          0.5654295367,
                          0.7551916914
                        ],
                        "iteration": 1555,
                        "passed_time": 65.60924598,
                        "remaining_time": 18.72140438,
                        "test": [
                          0.5556440342,
                          0.7619030033
                        ]
                      },
                      {
                        "learn": [
                          0.5654118605,
                          0.7551702421
                        ],
                        "iteration": 1560,
                        "passed_time": 65.76441228,
                        "remaining_time": 18.4949244,
                        "test": [
                          0.5556366743,
                          0.7618893053
                        ]
                      },
                      {
                        "learn": [
                          0.5654055261,
                          0.7551596171
                        ],
                        "iteration": 1565,
                        "passed_time": 65.90357372,
                        "remaining_time": 18.26446424,
                        "test": [
                          0.5556433706,
                          0.761887207
                        ]
                      },
                      {
                        "learn": [
                          0.5653990709,
                          0.7551392853
                        ],
                        "iteration": 1570,
                        "passed_time": 66.03534899,
                        "remaining_time": 18.03256825,
                        "test": [
                          0.5556459646,
                          0.761879962
                        ]
                      },
                      {
                        "learn": [
                          0.5653809122,
                          0.7551237066
                        ],
                        "iteration": 1575,
                        "passed_time": 66.1711924,
                        "remaining_time": 17.80240202,
                        "test": [
                          0.5556376396,
                          0.7618763197
                        ]
                      },
                      {
                        "learn": [
                          0.5653574445,
                          0.7551016561
                        ],
                        "iteration": 1580,
                        "passed_time": 66.31522304,
                        "remaining_time": 17.57500218,
                        "test": [
                          0.5556374586,
                          0.7618743401
                        ]
                      },
                      {
                        "learn": [
                          0.5653442326,
                          0.7550771282
                        ],
                        "iteration": 1585,
                        "passed_time": 66.47130084,
                        "remaining_time": 17.35127273,
                        "test": [
                          0.5556316069,
                          0.7618675701
                        ]
                      },
                      {
                        "learn": [
                          0.5653118364,
                          0.7550531988
                        ],
                        "iteration": 1590,
                        "passed_time": 66.61458388,
                        "remaining_time": 17.12467932,
                        "test": [
                          0.5556158618,
                          0.7618608792
                        ]
                      },
                      {
                        "learn": [
                          0.5652877654,
                          0.7550381376
                        ],
                        "iteration": 1595,
                        "passed_time": 66.77290074,
                        "remaining_time": 16.90241347,
                        "test": [
                          0.5555989101,
                          0.761857989
                        ]
                      },
                      {
                        "learn": [
                          0.5652518098,
                          0.7550172433
                        ],
                        "iteration": 1600,
                        "passed_time": 66.91916784,
                        "remaining_time": 16.67754402,
                        "test": [
                          0.5555784594,
                          0.7618499519
                        ]
                      },
                      {
                        "learn": [
                          0.5652281009,
                          0.7549928725
                        ],
                        "iteration": 1605,
                        "passed_time": 67.06576117,
                        "remaining_time": 16.45324402,
                        "test": [
                          0.5555743573,
                          0.761844211
                        ]
                      },
                      {
                        "learn": [
                          0.5651941964,
                          0.7549679015
                        ],
                        "iteration": 1610,
                        "passed_time": 67.20792458,
                        "remaining_time": 16.22835671,
                        "test": [
                          0.5555563197,
                          0.7618406081
                        ]
                      },
                      {
                        "learn": [
                          0.5651521477,
                          0.754927307
                        ],
                        "iteration": 1615,
                        "passed_time": 67.35687086,
                        "remaining_time": 16.00559308,
                        "test": [
                          0.5555415397,
                          0.7618292846
                        ]
                      },
                      {
                        "learn": [
                          0.5651170367,
                          0.7548972593
                        ],
                        "iteration": 1620,
                        "passed_time": 67.52785082,
                        "remaining_time": 15.78843644,
                        "test": [
                          0.5555171076,
                          0.7618093294
                        ]
                      },
                      {
                        "learn": [
                          0.5650801762,
                          0.7548768406
                        ],
                        "iteration": 1625,
                        "passed_time": 67.66349235,
                        "remaining_time": 15.56343551,
                        "test": [
                          0.5554826612,
                          0.761802044
                        ]
                      },
                      {
                        "learn": [
                          0.5650691361,
                          0.7548687288
                        ],
                        "iteration": 1630,
                        "passed_time": 67.93508866,
                        "remaining_time": 15.36974109,
                        "test": [
                          0.555479102,
                          0.76179658
                        ]
                      },
                      {
                        "learn": [
                          0.5650571308,
                          0.7548541036
                        ],
                        "iteration": 1635,
                        "passed_time": 68.50569246,
                        "remaining_time": 15.24209783,
                        "test": [
                          0.5554736726,
                          0.7617886214
                        ]
                      },
                      {
                        "learn": [
                          0.5650409025,
                          0.754828169
                        ],
                        "iteration": 1640,
                        "passed_time": 68.97166372,
                        "remaining_time": 15.08886488,
                        "test": [
                          0.5554815754,
                          0.7617801876
                        ]
                      },
                      {
                        "learn": [
                          0.5650132722,
                          0.7547972781
                        ],
                        "iteration": 1645,
                        "passed_time": 69.38368743,
                        "remaining_time": 14.92212962,
                        "test": [
                          0.5554725868,
                          0.7617690215
                        ]
                      },
                      {
                        "learn": [
                          0.5649990951,
                          0.7547858086
                        ],
                        "iteration": 1650,
                        "passed_time": 70.08196359,
                        "remaining_time": 14.81441871,
                        "test": [
                          0.5554558764,
                          0.7617587264
                        ]
                      },
                      {
                        "learn": [
                          0.5649793074,
                          0.7547609107
                        ],
                        "iteration": 1655,
                        "passed_time": 70.68481828,
                        "remaining_time": 14.68331974,
                        "test": [
                          0.5554456812,
                          0.7617373439
                        ]
                      },
                      {
                        "learn": [
                          0.5649572876,
                          0.7547415674
                        ],
                        "iteration": 1660,
                        "passed_time": 71.07953455,
                        "remaining_time": 14.50690079,
                        "test": [
                          0.5554354861,
                          0.7617279987
                        ]
                      },
                      {
                        "learn": [
                          0.5649236848,
                          0.754708075
                        ],
                        "iteration": 1665,
                        "passed_time": 71.27631846,
                        "remaining_time": 14.28949002,
                        "test": [
                          0.5554258942,
                          0.7617199602
                        ]
                      },
                      {
                        "learn": [
                          0.5649131877,
                          0.7546893698
                        ],
                        "iteration": 1670,
                        "passed_time": 71.4248416,
                        "remaining_time": 14.06270071,
                        "test": [
                          0.555427161,
                          0.7617096645
                        ]
                      },
                      {
                        "learn": [
                          0.5649016047,
                          0.7546773391
                        ],
                        "iteration": 1675,
                        "passed_time": 71.59283449,
                        "remaining_time": 13.84014223,
                        "test": [
                          0.5554193186,
                          0.7617011506
                        ]
                      },
                      {
                        "learn": [
                          0.564870958,
                          0.7546479609
                        ],
                        "iteration": 1680,
                        "passed_time": 71.73266649,
                        "remaining_time": 13.61256431,
                        "test": [
                          0.5554065294,
                          0.7616942998
                        ]
                      },
                      {
                        "learn": [
                          0.5648582288,
                          0.7546342907
                        ],
                        "iteration": 1685,
                        "passed_time": 71.88858151,
                        "remaining_time": 13.38850213,
                        "test": [
                          0.5554046593,
                          0.7616943394
                        ]
                      },
                      {
                        "learn": [
                          0.5648581081,
                          0.754630973
                        ],
                        "iteration": 1690,
                        "passed_time": 72.03295844,
                        "remaining_time": 13.16273457,
                        "test": [
                          0.5554038751,
                          0.7616917258
                        ]
                      },
                      {
                        "learn": [
                          0.5648480936,
                          0.754610587
                        ],
                        "iteration": 1695,
                        "passed_time": 72.17382896,
                        "remaining_time": 12.9368184,
                        "test": [
                          0.5554090028,
                          0.7616893498
                        ]
                      },
                      {
                        "learn": [
                          0.5648410352,
                          0.7545950373
                        ],
                        "iteration": 1700,
                        "passed_time": 72.31157691,
                        "remaining_time": 12.71085332,
                        "test": [
                          0.5554076756,
                          0.7616777072
                        ]
                      },
                      {
                        "learn": [
                          0.564804235,
                          0.7545762094
                        ],
                        "iteration": 1705,
                        "passed_time": 72.45512029,
                        "remaining_time": 12.48640408,
                        "test": [
                          0.5553827005,
                          0.7616671733
                        ]
                      },
                      {
                        "learn": [
                          0.5647981419,
                          0.7545567014
                        ],
                        "iteration": 1710,
                        "passed_time": 72.63839491,
                        "remaining_time": 12.26913859,
                        "test": [
                          0.5553861391,
                          0.7616598074
                        ]
                      },
                      {
                        "learn": [
                          0.5647667712,
                          0.7545336749
                        ],
                        "iteration": 1715,
                        "passed_time": 72.78084182,
                        "remaining_time": 12.04531415,
                        "test": [
                          0.5553719624,
                          0.7616550947
                        ]
                      },
                      {
                        "learn": [
                          0.5647525338,
                          0.7545139659
                        ],
                        "iteration": 1720,
                        "passed_time": 72.93804982,
                        "remaining_time": 11.82435555,
                        "test": [
                          0.5553584494,
                          0.7616516493
                        ]
                      },
                      {
                        "learn": [
                          0.5647373311,
                          0.7545028919
                        ],
                        "iteration": 1725,
                        "passed_time": 73.07812487,
                        "remaining_time": 11.60104647,
                        "test": [
                          0.5553472287,
                          0.7616487187
                        ]
                      },
                      {
                        "learn": [
                          0.5646963079,
                          0.7544769053
                        ],
                        "iteration": 1730,
                        "passed_time": 73.22083604,
                        "remaining_time": 11.3786279,
                        "test": [
                          0.5553101883,
                          0.7616336301
                        ]
                      },
                      {
                        "learn": [
                          0.5646945584,
                          0.754469229
                        ],
                        "iteration": 1735,
                        "passed_time": 73.35966808,
                        "remaining_time": 11.15607856,
                        "test": [
                          0.5553145318,
                          0.7616330756
                        ]
                      },
                      {
                        "learn": [
                          0.5646642133,
                          0.7544441208
                        ],
                        "iteration": 1740,
                        "passed_time": 73.50431022,
                        "remaining_time": 10.93487441,
                        "test": [
                          0.5552995105,
                          0.761623848
                        ]
                      },
                      {
                        "learn": [
                          0.5646583012,
                          0.7544300471
                        ],
                        "iteration": 1745,
                        "passed_time": 73.66746423,
                        "remaining_time": 10.71680178,
                        "test": [
                          0.5553078959,
                          0.7616254718
                        ]
                      },
                      {
                        "learn": [
                          0.5646484073,
                          0.7544125345
                        ],
                        "iteration": 1750,
                        "passed_time": 73.81122122,
                        "remaining_time": 10.49628446,
                        "test": [
                          0.5553052415,
                          0.7616174718
                        ]
                      },
                      {
                        "learn": [
                          0.5646263272,
                          0.7543915029
                        ],
                        "iteration": 1755,
                        "passed_time": 73.98147532,
                        "remaining_time": 10.27988609,
                        "test": [
                          0.5553029491,
                          0.7616112143
                        ]
                      },
                      {
                        "learn": [
                          0.5645939913,
                          0.7543687512
                        ],
                        "iteration": 1760,
                        "passed_time": 74.12717865,
                        "remaining_time": 10.06041777,
                        "test": [
                          0.5552853339,
                          0.7615986596
                        ]
                      },
                      {
                        "learn": [
                          0.5645671453,
                          0.7543432398
                        ],
                        "iteration": 1765,
                        "passed_time": 74.26949301,
                        "remaining_time": 9.8409181,
                        "test": [
                          0.5552785773,
                          0.7615944218
                        ]
                      },
                      {
                        "learn": [
                          0.5645401786,
                          0.7543316034
                        ],
                        "iteration": 1770,
                        "passed_time": 74.40487796,
                        "remaining_time": 9.620958246,
                        "test": [
                          0.5552664517,
                          0.761594303
                        ]
                      },
                      {
                        "learn": [
                          0.5645217785,
                          0.7543019719
                        ],
                        "iteration": 1775,
                        "passed_time": 74.54676633,
                        "remaining_time": 9.402294852,
                        "test": [
                          0.555263556,
                          0.7615754507
                        ]
                      },
                      {
                        "learn": [
                          0.5645177365,
                          0.7542881754
                        ],
                        "iteration": 1780,
                        "passed_time": 74.70859493,
                        "remaining_time": 9.18651448,
                        "test": [
                          0.5552695887,
                          0.7615733515
                        ]
                      },
                      {
                        "learn": [
                          0.5644937259,
                          0.754263621
                        ],
                        "iteration": 1785,
                        "passed_time": 74.84365389,
                        "remaining_time": 8.96782863,
                        "test": [
                          0.5552665724,
                          0.7615670541
                        ]
                      },
                      {
                        "learn": [
                          0.5644813586,
                          0.754243785
                        ],
                        "iteration": 1790,
                        "passed_time": 75.00869412,
                        "remaining_time": 8.753108359,
                        "test": [
                          0.5552691664,
                          0.7615648361
                        ]
                      },
                      {
                        "learn": [
                          0.5644673625,
                          0.7542161097
                        ],
                        "iteration": 1795,
                        "passed_time": 75.14727431,
                        "remaining_time": 8.53565922,
                        "test": [
                          0.5552700713,
                          0.7615562414
                        ]
                      },
                      {
                        "learn": [
                          0.564441723,
                          0.7541809942
                        ],
                        "iteration": 1800,
                        "passed_time": 75.28999165,
                        "remaining_time": 8.319105129,
                        "test": [
                          0.5552564375,
                          0.7615409528
                        ]
                      },
                      {
                        "learn": [
                          0.5644134894,
                          0.7541601961
                        ],
                        "iteration": 1805,
                        "passed_time": 75.42619805,
                        "remaining_time": 8.102260477,
                        "test": [
                          0.5552438897,
                          0.761535883
                        ]
                      },
                      {
                        "learn": [
                          0.5643880912,
                          0.7541413573
                        ],
                        "iteration": 1810,
                        "passed_time": 75.56674315,
                        "remaining_time": 7.88631389,
                        "test": [
                          0.5552219912,
                          0.7615234855
                        ]
                      },
                      {
                        "learn": [
                          0.5643856781,
                          0.754125158
                        ],
                        "iteration": 1815,
                        "passed_time": 75.72867496,
                        "remaining_time": 7.672949445,
                        "test": [
                          0.5552387619,
                          0.7615264165
                        ]
                      },
                      {
                        "learn": [
                          0.564367097,
                          0.7541007583
                        ],
                        "iteration": 1820,
                        "passed_time": 75.87147624,
                        "remaining_time": 7.457986956,
                        "test": [
                          0.5552259727,
                          0.7615084339
                        ]
                      },
                      {
                        "learn": [
                          0.5643359677,
                          0.7540735578
                        ],
                        "iteration": 1825,
                        "passed_time": 76.03295044,
                        "remaining_time": 7.245199001,
                        "test": [
                          0.5552078749,
                          0.7614976996
                        ]
                      },
                      {
                        "learn": [
                          0.5643251086,
                          0.7540549568
                        ],
                        "iteration": 1830,
                        "passed_time": 76.17993843,
                        "remaining_time": 7.031354229,
                        "test": [
                          0.5552019025,
                          0.761488708
                        ]
                      },
                      {
                        "learn": [
                          0.5643073118,
                          0.754031475
                        ],
                        "iteration": 1835,
                        "passed_time": 76.32401548,
                        "remaining_time": 6.817613583,
                        "test": [
                          0.5551996705,
                          0.7614879554
                        ]
                      },
                      {
                        "learn": [
                          0.5642890323,
                          0.7539999514
                        ],
                        "iteration": 1840,
                        "passed_time": 76.46547667,
                        "remaining_time": 6.604025415,
                        "test": [
                          0.5552016009,
                          0.761476389
                        ]
                      },
                      {
                        "learn": [
                          0.5642728041,
                          0.753984109
                        ],
                        "iteration": 1845,
                        "passed_time": 76.6017523,
                        "remaining_time": 6.39039537,
                        "test": [
                          0.5551863384,
                          0.7614628417
                        ]
                      },
                      {
                        "learn": [
                          0.5642711149,
                          0.7539713069
                        ],
                        "iteration": 1850,
                        "passed_time": 76.76397122,
                        "remaining_time": 6.179271589,
                        "test": [
                          0.5551947237,
                          0.7614550381
                        ]
                      },
                      {
                        "learn": [
                          0.5642559122,
                          0.7539576644
                        ],
                        "iteration": 1855,
                        "passed_time": 76.90304182,
                        "remaining_time": 5.966615314,
                        "test": [
                          0.5551860367,
                          0.7614532159
                        ]
                      },
                      {
                        "learn": [
                          0.5642203185,
                          0.753940861
                        ],
                        "iteration": 1860,
                        "passed_time": 77.06421405,
                        "remaining_time": 5.756005241,
                        "test": [
                          0.5551559942,
                          0.7614474721
                        ]
                      },
                      {
                        "learn": [
                          0.5642089165,
                          0.7539320191
                        ],
                        "iteration": 1865,
                        "passed_time": 77.19946325,
                        "remaining_time": 5.54379854,
                        "test": [
                          0.5551514094,
                          0.7614427185
                        ]
                      },
                      {
                        "learn": [
                          0.56418014,
                          0.7539089335
                        ],
                        "iteration": 1870,
                        "passed_time": 77.33981869,
                        "remaining_time": 5.332355217,
                        "test": [
                          0.5551269169,
                          0.7614287745
                        ]
                      },
                      {
                        "learn": [
                          0.5641657819,
                          0.75389589
                        ],
                        "iteration": 1875,
                        "passed_time": 77.47561178,
                        "remaining_time": 5.120989265,
                        "test": [
                          0.5551136451,
                          0.7614183164
                        ]
                      },
                      {
                        "learn": [
                          0.5641468991,
                          0.7538836866
                        ],
                        "iteration": 1880,
                        "passed_time": 77.61903814,
                        "remaining_time": 4.910507995,
                        "test": [
                          0.5551007353,
                          0.7614161376
                        ]
                      },
                      {
                        "learn": [
                          0.5641258446,
                          0.7538667615
                        ],
                        "iteration": 1885,
                        "passed_time": 77.78480722,
                        "remaining_time": 4.70173278,
                        "test": [
                          0.5550917467,
                          0.7614071054
                        ]
                      },
                      {
                        "learn": [
                          0.5641090734,
                          0.7538549977
                        ],
                        "iteration": 1890,
                        "passed_time": 77.92601517,
                        "remaining_time": 4.491769251,
                        "test": [
                          0.5550806466,
                          0.7614005689
                        ]
                      },
                      {
                        "learn": [
                          0.5640900097,
                          0.7538427136
                        ],
                        "iteration": 1895,
                        "passed_time": 78.086516,
                        "remaining_time": 4.283226616,
                        "test": [
                          0.5550530775,
                          0.7613926854
                        ]
                      },
                      {
                        "learn": [
                          0.5640773407,
                          0.7538229466
                        ],
                        "iteration": 1900,
                        "passed_time": 78.22902851,
                        "remaining_time": 4.073999906,
                        "test": [
                          0.5550442699,
                          0.7613824249
                        ]
                      },
                      {
                        "learn": [
                          0.5640456081,
                          0.753793215
                        ],
                        "iteration": 1905,
                        "passed_time": 78.37000124,
                        "remaining_time": 3.86504728,
                        "test": [
                          0.5550311791,
                          0.7613781067
                        ]
                      },
                      {
                        "learn": [
                          0.5639996984,
                          0.7537581998
                        ],
                        "iteration": 1910,
                        "passed_time": 78.51323427,
                        "remaining_time": 3.656555652,
                        "test": [
                          0.5550071089,
                          0.761368559
                        ]
                      },
                      {
                        "learn": [
                          0.5639843147,
                          0.7537369898
                        ],
                        "iteration": 1915,
                        "passed_time": 78.65383383,
                        "remaining_time": 3.448289166,
                        "test": [
                          0.5550104268,
                          0.7613666178
                        ]
                      },
                      {
                        "learn": [
                          0.5639688103,
                          0.7537201415
                        ],
                        "iteration": 1920,
                        "passed_time": 78.81761087,
                        "remaining_time": 3.241328089,
                        "test": [
                          0.5550097029,
                          0.7613639238
                        ]
                      },
                      {
                        "learn": [
                          0.5639368364,
                          0.7537021321
                        ],
                        "iteration": 1925,
                        "passed_time": 78.95339428,
                        "remaining_time": 3.033515668,
                        "test": [
                          0.5549936561,
                          0.7613599621
                        ]
                      },
                      {
                        "learn": [
                          0.5639251327,
                          0.7536837621
                        ],
                        "iteration": 1930,
                        "passed_time": 79.10852601,
                        "remaining_time": 2.826767631,
                        "test": [
                          0.5549924496,
                          0.7613556438
                        ]
                      },
                      {
                        "learn": [
                          0.5638986486,
                          0.7536588279
                        ],
                        "iteration": 1935,
                        "passed_time": 79.24886813,
                        "remaining_time": 2.619797294,
                        "test": [
                          0.5549776696,
                          0.7613466109
                        ]
                      },
                      {
                        "learn": [
                          0.5638737934,
                          0.7536475812
                        ],
                        "iteration": 1940,
                        "passed_time": 79.38992548,
                        "remaining_time": 2.413191964,
                        "test": [
                          0.5549506434,
                          0.7613373798
                        ]
                      },
                      {
                        "learn": [
                          0.5638369329,
                          0.7536057948
                        ],
                        "iteration": 1945,
                        "passed_time": 79.53514144,
                        "remaining_time": 2.207038868,
                        "test": [
                          0.5549343553,
                          0.7613155892
                        ]
                      },
                      {
                        "learn": [
                          0.563839527,
                          0.753592586
                        ],
                        "iteration": 1950,
                        "passed_time": 79.67452294,
                        "remaining_time": 2.001051576,
                        "test": [
                          0.5549513673,
                          0.761318838
                        ]
                      },
                      {
                        "learn": [
                          0.5638225145,
                          0.7535692099
                        ],
                        "iteration": 1955,
                        "passed_time": 79.84970677,
                        "remaining_time": 1.796210173,
                        "test": [
                          0.554943163,
                          0.7613145591
                        ]
                      },
                      {
                        "learn": [
                          0.5637899373,
                          0.7535514371
                        ],
                        "iteration": 1960,
                        "passed_time": 79.99943638,
                        "remaining_time": 1.591013778,
                        "test": [
                          0.5549198167,
                          0.7613050503
                        ]
                      },
                      {
                        "learn": [
                          0.5637790179,
                          0.7535441517
                        ],
                        "iteration": 1965,
                        "passed_time": 80.15514735,
                        "remaining_time": 1.386202955,
                        "test": [
                          0.5549135427,
                          0.7612988299
                        ]
                      },
                      {
                        "learn": [
                          0.5637527148,
                          0.753529901
                        ],
                        "iteration": 1970,
                        "passed_time": 80.29900948,
                        "remaining_time": 1.181466908,
                        "test": [
                          0.554905459,
                          0.761300692
                        ]
                      },
                      {
                        "learn": [
                          0.5637326858,
                          0.7535156501
                        ],
                        "iteration": 1975,
                        "passed_time": 80.42713338,
                        "remaining_time": 0.9768477739,
                        "test": [
                          0.5548880247,
                          0.7612934811
                        ]
                      },
                      {
                        "learn": [
                          0.5637104247,
                          0.7534969954
                        ],
                        "iteration": 1980,
                        "passed_time": 80.56742989,
                        "remaining_time": 0.7727315335,
                        "test": [
                          0.5548690822,
                          0.7612827833
                        ]
                      },
                      {
                        "learn": [
                          0.5636998673,
                          0.7534810224
                        ],
                        "iteration": 1985,
                        "passed_time": 80.71243369,
                        "remaining_time": 0.5689698246,
                        "test": [
                          0.5548673931,
                          0.7612694308
                        ]
                      },
                      {
                        "learn": [
                          0.5636721163,
                          0.7534601249
                        ],
                        "iteration": 1990,
                        "passed_time": 80.8820219,
                        "remaining_time": 0.3656143632,
                        "test": [
                          0.5548537593,
                          0.761264478
                        ]
                      },
                      {
                        "learn": [
                          0.5636630068,
                          0.7534407081
                        ],
                        "iteration": 1995,
                        "passed_time": 81.08174663,
                        "remaining_time": 0.1624884702,
                        "test": [
                          0.5548509843,
                          0.7612552063
                        ]
                      },
                      {
                        "learn": [
                          0.5636583012,
                          0.7534239332
                        ],
                        "iteration": 1999,
                        "passed_time": 81.31319463,
                        "remaining_time": 0,
                        "test": [
                          0.55484833,
                          0.7612504911
                        ]
                      }
                    ],
                    "meta": {
                      "test_sets": [
                        "test"
                      ],
                      "test_metrics": [
                        {
                          "best_value": "Min",
                          "name": "MAE"
                        },
                        {
                          "best_value": "Min",
                          "name": "RMSE"
                        }
                      ],
                      "learn_metrics": [
                        {
                          "best_value": "Min",
                          "name": "MAE"
                        },
                        {
                          "best_value": "Min",
                          "name": "RMSE"
                        }
                      ],
                      "launch_mode": "Train",
                      "parameters": "",
                      "iteration_count": 2000,
                      "learn_sets": [
                        "learn"
                      ],
                      "name": "experiment"
                    }
                  }
                }
              }
            },
            "layout": "IPY_MODEL_0a0544bcb500405198ae430d94981e2b"
          }
        }
      }
    }
  },
  "cells": [
    {
      "cell_type": "code",
      "source": [
        "from google.colab import drive\n",
        "drive.mount('/content/drive')"
      ],
      "metadata": {
        "colab": {
          "base_uri": "https://localhost:8080/"
        },
        "id": "j5C70m7bsXHV",
        "outputId": "88acf9c8-a9b3-4f01-a3f4-7747fab4ac5b"
      },
      "execution_count": null,
      "outputs": [
        {
          "output_type": "stream",
          "name": "stdout",
          "text": [
            "Mounted at /content/drive\n"
          ]
        }
      ]
    },
    {
      "cell_type": "markdown",
      "source": [
        "# 여행지 추천 AI\n"
      ],
      "metadata": {
        "id": "xhaZdc9RK4FY"
      }
    },
    {
      "cell_type": "markdown",
      "source": [
        "- 국내 여행로그 데이터(제주 및 도서) - AI 허브\n",
        "https://www.aihub.or.kr/aihubdata/data/view.do?currMenu=&topMenu=&aihubDataSe=data&dataSetSn=71780\n"
      ],
      "metadata": {
        "id": "3nwucDTfK7WO"
      }
    },
    {
      "cell_type": "code",
      "execution_count": 3,
      "metadata": {
        "id": "9sJEDGjDKmFA"
      },
      "outputs": [],
      "source": [
        "import pandas as pd"
      ]
    },
    {
      "cell_type": "markdown",
      "source": [
        "*이탤릭체 텍스트*# 방문지 정보"
      ],
      "metadata": {
        "id": "FgUxoFXcLIEQ"
      }
    },
    {
      "cell_type": "code",
      "source": [
        "df_place = pd.read_csv('/content/drive/MyDrive/Data/Travel_Jeju2023/tn_visit_area_info_방문지정보_H.csv')\n",
        "\n",
        "df_place"
      ],
      "metadata": {
        "id": "4la4QyuwKvq5",
        "colab": {
          "base_uri": "https://localhost:8080/",
          "height": 912
        },
        "collapsed": true,
        "outputId": "30e02563-d609-4509-ba5b-be078795ff46"
      },
      "execution_count": 19,
      "outputs": [
        {
          "output_type": "execute_result",
          "data": {
            "text/plain": [
              "       VISIT_AREA_ID  TRAVEL_ID  VISIT_ORDER     VISIT_AREA_NM  \\\n",
              "0         2306030001  e_e000295            1                 집   \n",
              "1         2306030002  e_e000295            2  트레이더스 홀세일 클럽 안산점   \n",
              "2         2306030003  e_e000295            3           백령 할인마트   \n",
              "3         2306030007  e_e000295            4           아침 풍경펜션   \n",
              "4         2306040001  e_e000295            5             사이 바다   \n",
              "...              ...        ...          ...               ...   \n",
              "46004     2309220002  h_h006874            2              꼬스뗀뇨   \n",
              "46005     2309220003  h_h006874            3         마이 피기 팬트리   \n",
              "46006     2309220004  h_h006874            4          월정리 해수욕장   \n",
              "46007     2309220005  h_h006874            5        민경이네어등포해녀촌   \n",
              "46008     2309220006  h_h006874            6           김정 문화회관   \n",
              "\n",
              "      VISIT_START_YMD VISIT_END_YMD                 ROAD_NM_ADDR  \\\n",
              "0          2023-06-03    2023-06-03            경기 성남시 분당구 수내로 39   \n",
              "1          2023-06-03    2023-06-03          경기 안산시 단원구 중앙대로 397   \n",
              "2          2023-06-03    2023-06-03        인천 옹진군 영흥면 영흥로 164-10   \n",
              "3          2023-06-03    2023-06-04   인천 옹진군 영흥면 영흥서로380번길 101-3   \n",
              "4          2023-06-04    2023-06-04       인천 옹진군 영흥면 영흥북로 374-25   \n",
              "...               ...           ...                          ...   \n",
              "46004      2023-09-22    2023-09-22  제주특별자치도 제주시 구좌읍 해맞이해안로 2080   \n",
              "46005      2023-09-22    2023-09-22      제주특별자치도 제주시 구좌읍 하도13길 6   \n",
              "46006      2023-09-22    2023-09-22                          NaN   \n",
              "46007      2023-09-22    2023-09-22   제주특별자치도 제주시 구좌읍 해맞이해안로 830   \n",
              "46008      2023-09-22    2023-09-23        제주특별자치도 서귀포시 김정문화로 36   \n",
              "\n",
              "                       LOTNO_ADDR     X_COORD    Y_COORD  ...          POI_NM  \\\n",
              "0              경기 성남시 분당구 수내동 1-1         NaN        NaN  ...             NaN   \n",
              "1             경기 안산시 단원구 신길동 1687  126.785016  37.331252  ...  트레이더스홀세일클럽 안산점   \n",
              "2              인천 옹진군 영흥면 내리 8-31  126.493973  37.258358  ...          백령할인마트   \n",
              "3           인천 옹진군 영흥면 내리 1212-32         NaN        NaN  ...          아침풍경펜션   \n",
              "4           인천 옹진군 영흥면 내리 724-132         NaN        NaN  ...            하이바다   \n",
              "...                           ...         ...        ...  ...             ...   \n",
              "46004     제주특별자치도 제주시 구좌읍 종달리 150  126.905244  33.509868  ...            꼬스뗀뇨   \n",
              "46005  제주특별자치도 제주시 구좌읍 하도리 1091-5  126.888132  33.508700  ...         마이피기팬트리   \n",
              "46006    제주특별자치도 제주시 구좌읍 월정리 33-3  126.795805  33.556469  ...         월정리해수욕장   \n",
              "46007     제주특별자치도 제주시 구좌읍 행원리 102  126.825773  33.553735  ...      민경이네어등포해녀촌   \n",
              "46008        제주특별자치도 서귀포시 강정동 176  126.508654  33.251086  ...          김정문화회관   \n",
              "\n",
              "       RESIDENCE_TIME_MIN VISIT_AREA_TYPE_CD REVISIT_YN  VISIT_CHC_REASON_CD  \\\n",
              "0                     NaN                 21        NaN                  NaN   \n",
              "1                    90.0                  4          N                  6.0   \n",
              "2                    30.0                  4          N                  9.0   \n",
              "3                   540.0                 24          N                  6.0   \n",
              "4                    60.0                  4          N                  1.0   \n",
              "...                   ...                ...        ...                  ...   \n",
              "46004                60.0                  3          N                  1.0   \n",
              "46005                30.0                 10          N                  2.0   \n",
              "46006               120.0                  1          Y                 11.0   \n",
              "46007                30.0                 11          N                  2.0   \n",
              "46008               240.0                 21        NaN                  NaN   \n",
              "\n",
              "       LODGING_TYPE_CD DGSTFN  REVISIT_INTENTION  RCMDTN_INTENTION  SGG_CD  \n",
              "0                  NaN    NaN                NaN               NaN     NaN  \n",
              "1                  NaN    5.0                3.0               5.0     NaN  \n",
              "2                  NaN    5.0                3.0               5.0     NaN  \n",
              "3                  3.0    5.0                5.0               5.0     NaN  \n",
              "4                  NaN    3.0                1.0               2.0     NaN  \n",
              "...                ...    ...                ...               ...     ...  \n",
              "46004              NaN    3.0                2.0               2.0     NaN  \n",
              "46005              NaN    4.0                4.0               4.0     NaN  \n",
              "46006              NaN    4.0                4.0               4.0     NaN  \n",
              "46007              NaN    4.0                4.0               4.0     NaN  \n",
              "46008              NaN    NaN                NaN               NaN     NaN  \n",
              "\n",
              "[46009 rows x 23 columns]"
            ],
            "text/html": [
              "\n",
              "  <div id=\"df-3a6234b7-9145-4ae7-946e-69150bce7b77\" class=\"colab-df-container\">\n",
              "    <div>\n",
              "<style scoped>\n",
              "    .dataframe tbody tr th:only-of-type {\n",
              "        vertical-align: middle;\n",
              "    }\n",
              "\n",
              "    .dataframe tbody tr th {\n",
              "        vertical-align: top;\n",
              "    }\n",
              "\n",
              "    .dataframe thead th {\n",
              "        text-align: right;\n",
              "    }\n",
              "</style>\n",
              "<table border=\"1\" class=\"dataframe\">\n",
              "  <thead>\n",
              "    <tr style=\"text-align: right;\">\n",
              "      <th></th>\n",
              "      <th>VISIT_AREA_ID</th>\n",
              "      <th>TRAVEL_ID</th>\n",
              "      <th>VISIT_ORDER</th>\n",
              "      <th>VISIT_AREA_NM</th>\n",
              "      <th>VISIT_START_YMD</th>\n",
              "      <th>VISIT_END_YMD</th>\n",
              "      <th>ROAD_NM_ADDR</th>\n",
              "      <th>LOTNO_ADDR</th>\n",
              "      <th>X_COORD</th>\n",
              "      <th>Y_COORD</th>\n",
              "      <th>...</th>\n",
              "      <th>POI_NM</th>\n",
              "      <th>RESIDENCE_TIME_MIN</th>\n",
              "      <th>VISIT_AREA_TYPE_CD</th>\n",
              "      <th>REVISIT_YN</th>\n",
              "      <th>VISIT_CHC_REASON_CD</th>\n",
              "      <th>LODGING_TYPE_CD</th>\n",
              "      <th>DGSTFN</th>\n",
              "      <th>REVISIT_INTENTION</th>\n",
              "      <th>RCMDTN_INTENTION</th>\n",
              "      <th>SGG_CD</th>\n",
              "    </tr>\n",
              "  </thead>\n",
              "  <tbody>\n",
              "    <tr>\n",
              "      <th>0</th>\n",
              "      <td>2306030001</td>\n",
              "      <td>e_e000295</td>\n",
              "      <td>1</td>\n",
              "      <td>집</td>\n",
              "      <td>2023-06-03</td>\n",
              "      <td>2023-06-03</td>\n",
              "      <td>경기 성남시 분당구 수내로 39</td>\n",
              "      <td>경기 성남시 분당구 수내동 1-1</td>\n",
              "      <td>NaN</td>\n",
              "      <td>NaN</td>\n",
              "      <td>...</td>\n",
              "      <td>NaN</td>\n",
              "      <td>NaN</td>\n",
              "      <td>21</td>\n",
              "      <td>NaN</td>\n",
              "      <td>NaN</td>\n",
              "      <td>NaN</td>\n",
              "      <td>NaN</td>\n",
              "      <td>NaN</td>\n",
              "      <td>NaN</td>\n",
              "      <td>NaN</td>\n",
              "    </tr>\n",
              "    <tr>\n",
              "      <th>1</th>\n",
              "      <td>2306030002</td>\n",
              "      <td>e_e000295</td>\n",
              "      <td>2</td>\n",
              "      <td>트레이더스 홀세일 클럽 안산점</td>\n",
              "      <td>2023-06-03</td>\n",
              "      <td>2023-06-03</td>\n",
              "      <td>경기 안산시 단원구 중앙대로 397</td>\n",
              "      <td>경기 안산시 단원구 신길동 1687</td>\n",
              "      <td>126.785016</td>\n",
              "      <td>37.331252</td>\n",
              "      <td>...</td>\n",
              "      <td>트레이더스홀세일클럽 안산점</td>\n",
              "      <td>90.0</td>\n",
              "      <td>4</td>\n",
              "      <td>N</td>\n",
              "      <td>6.0</td>\n",
              "      <td>NaN</td>\n",
              "      <td>5.0</td>\n",
              "      <td>3.0</td>\n",
              "      <td>5.0</td>\n",
              "      <td>NaN</td>\n",
              "    </tr>\n",
              "    <tr>\n",
              "      <th>2</th>\n",
              "      <td>2306030003</td>\n",
              "      <td>e_e000295</td>\n",
              "      <td>3</td>\n",
              "      <td>백령 할인마트</td>\n",
              "      <td>2023-06-03</td>\n",
              "      <td>2023-06-03</td>\n",
              "      <td>인천 옹진군 영흥면 영흥로 164-10</td>\n",
              "      <td>인천 옹진군 영흥면 내리 8-31</td>\n",
              "      <td>126.493973</td>\n",
              "      <td>37.258358</td>\n",
              "      <td>...</td>\n",
              "      <td>백령할인마트</td>\n",
              "      <td>30.0</td>\n",
              "      <td>4</td>\n",
              "      <td>N</td>\n",
              "      <td>9.0</td>\n",
              "      <td>NaN</td>\n",
              "      <td>5.0</td>\n",
              "      <td>3.0</td>\n",
              "      <td>5.0</td>\n",
              "      <td>NaN</td>\n",
              "    </tr>\n",
              "    <tr>\n",
              "      <th>3</th>\n",
              "      <td>2306030007</td>\n",
              "      <td>e_e000295</td>\n",
              "      <td>4</td>\n",
              "      <td>아침 풍경펜션</td>\n",
              "      <td>2023-06-03</td>\n",
              "      <td>2023-06-04</td>\n",
              "      <td>인천 옹진군 영흥면 영흥서로380번길 101-3</td>\n",
              "      <td>인천 옹진군 영흥면 내리 1212-32</td>\n",
              "      <td>NaN</td>\n",
              "      <td>NaN</td>\n",
              "      <td>...</td>\n",
              "      <td>아침풍경펜션</td>\n",
              "      <td>540.0</td>\n",
              "      <td>24</td>\n",
              "      <td>N</td>\n",
              "      <td>6.0</td>\n",
              "      <td>3.0</td>\n",
              "      <td>5.0</td>\n",
              "      <td>5.0</td>\n",
              "      <td>5.0</td>\n",
              "      <td>NaN</td>\n",
              "    </tr>\n",
              "    <tr>\n",
              "      <th>4</th>\n",
              "      <td>2306040001</td>\n",
              "      <td>e_e000295</td>\n",
              "      <td>5</td>\n",
              "      <td>사이 바다</td>\n",
              "      <td>2023-06-04</td>\n",
              "      <td>2023-06-04</td>\n",
              "      <td>인천 옹진군 영흥면 영흥북로 374-25</td>\n",
              "      <td>인천 옹진군 영흥면 내리 724-132</td>\n",
              "      <td>NaN</td>\n",
              "      <td>NaN</td>\n",
              "      <td>...</td>\n",
              "      <td>하이바다</td>\n",
              "      <td>60.0</td>\n",
              "      <td>4</td>\n",
              "      <td>N</td>\n",
              "      <td>1.0</td>\n",
              "      <td>NaN</td>\n",
              "      <td>3.0</td>\n",
              "      <td>1.0</td>\n",
              "      <td>2.0</td>\n",
              "      <td>NaN</td>\n",
              "    </tr>\n",
              "    <tr>\n",
              "      <th>...</th>\n",
              "      <td>...</td>\n",
              "      <td>...</td>\n",
              "      <td>...</td>\n",
              "      <td>...</td>\n",
              "      <td>...</td>\n",
              "      <td>...</td>\n",
              "      <td>...</td>\n",
              "      <td>...</td>\n",
              "      <td>...</td>\n",
              "      <td>...</td>\n",
              "      <td>...</td>\n",
              "      <td>...</td>\n",
              "      <td>...</td>\n",
              "      <td>...</td>\n",
              "      <td>...</td>\n",
              "      <td>...</td>\n",
              "      <td>...</td>\n",
              "      <td>...</td>\n",
              "      <td>...</td>\n",
              "      <td>...</td>\n",
              "      <td>...</td>\n",
              "    </tr>\n",
              "    <tr>\n",
              "      <th>46004</th>\n",
              "      <td>2309220002</td>\n",
              "      <td>h_h006874</td>\n",
              "      <td>2</td>\n",
              "      <td>꼬스뗀뇨</td>\n",
              "      <td>2023-09-22</td>\n",
              "      <td>2023-09-22</td>\n",
              "      <td>제주특별자치도 제주시 구좌읍 해맞이해안로 2080</td>\n",
              "      <td>제주특별자치도 제주시 구좌읍 종달리 150</td>\n",
              "      <td>126.905244</td>\n",
              "      <td>33.509868</td>\n",
              "      <td>...</td>\n",
              "      <td>꼬스뗀뇨</td>\n",
              "      <td>60.0</td>\n",
              "      <td>3</td>\n",
              "      <td>N</td>\n",
              "      <td>1.0</td>\n",
              "      <td>NaN</td>\n",
              "      <td>3.0</td>\n",
              "      <td>2.0</td>\n",
              "      <td>2.0</td>\n",
              "      <td>NaN</td>\n",
              "    </tr>\n",
              "    <tr>\n",
              "      <th>46005</th>\n",
              "      <td>2309220003</td>\n",
              "      <td>h_h006874</td>\n",
              "      <td>3</td>\n",
              "      <td>마이 피기 팬트리</td>\n",
              "      <td>2023-09-22</td>\n",
              "      <td>2023-09-22</td>\n",
              "      <td>제주특별자치도 제주시 구좌읍 하도13길 6</td>\n",
              "      <td>제주특별자치도 제주시 구좌읍 하도리 1091-5</td>\n",
              "      <td>126.888132</td>\n",
              "      <td>33.508700</td>\n",
              "      <td>...</td>\n",
              "      <td>마이피기팬트리</td>\n",
              "      <td>30.0</td>\n",
              "      <td>10</td>\n",
              "      <td>N</td>\n",
              "      <td>2.0</td>\n",
              "      <td>NaN</td>\n",
              "      <td>4.0</td>\n",
              "      <td>4.0</td>\n",
              "      <td>4.0</td>\n",
              "      <td>NaN</td>\n",
              "    </tr>\n",
              "    <tr>\n",
              "      <th>46006</th>\n",
              "      <td>2309220004</td>\n",
              "      <td>h_h006874</td>\n",
              "      <td>4</td>\n",
              "      <td>월정리 해수욕장</td>\n",
              "      <td>2023-09-22</td>\n",
              "      <td>2023-09-22</td>\n",
              "      <td>NaN</td>\n",
              "      <td>제주특별자치도 제주시 구좌읍 월정리 33-3</td>\n",
              "      <td>126.795805</td>\n",
              "      <td>33.556469</td>\n",
              "      <td>...</td>\n",
              "      <td>월정리해수욕장</td>\n",
              "      <td>120.0</td>\n",
              "      <td>1</td>\n",
              "      <td>Y</td>\n",
              "      <td>11.0</td>\n",
              "      <td>NaN</td>\n",
              "      <td>4.0</td>\n",
              "      <td>4.0</td>\n",
              "      <td>4.0</td>\n",
              "      <td>NaN</td>\n",
              "    </tr>\n",
              "    <tr>\n",
              "      <th>46007</th>\n",
              "      <td>2309220005</td>\n",
              "      <td>h_h006874</td>\n",
              "      <td>5</td>\n",
              "      <td>민경이네어등포해녀촌</td>\n",
              "      <td>2023-09-22</td>\n",
              "      <td>2023-09-22</td>\n",
              "      <td>제주특별자치도 제주시 구좌읍 해맞이해안로 830</td>\n",
              "      <td>제주특별자치도 제주시 구좌읍 행원리 102</td>\n",
              "      <td>126.825773</td>\n",
              "      <td>33.553735</td>\n",
              "      <td>...</td>\n",
              "      <td>민경이네어등포해녀촌</td>\n",
              "      <td>30.0</td>\n",
              "      <td>11</td>\n",
              "      <td>N</td>\n",
              "      <td>2.0</td>\n",
              "      <td>NaN</td>\n",
              "      <td>4.0</td>\n",
              "      <td>4.0</td>\n",
              "      <td>4.0</td>\n",
              "      <td>NaN</td>\n",
              "    </tr>\n",
              "    <tr>\n",
              "      <th>46008</th>\n",
              "      <td>2309220006</td>\n",
              "      <td>h_h006874</td>\n",
              "      <td>6</td>\n",
              "      <td>김정 문화회관</td>\n",
              "      <td>2023-09-22</td>\n",
              "      <td>2023-09-23</td>\n",
              "      <td>제주특별자치도 서귀포시 김정문화로 36</td>\n",
              "      <td>제주특별자치도 서귀포시 강정동 176</td>\n",
              "      <td>126.508654</td>\n",
              "      <td>33.251086</td>\n",
              "      <td>...</td>\n",
              "      <td>김정문화회관</td>\n",
              "      <td>240.0</td>\n",
              "      <td>21</td>\n",
              "      <td>NaN</td>\n",
              "      <td>NaN</td>\n",
              "      <td>NaN</td>\n",
              "      <td>NaN</td>\n",
              "      <td>NaN</td>\n",
              "      <td>NaN</td>\n",
              "      <td>NaN</td>\n",
              "    </tr>\n",
              "  </tbody>\n",
              "</table>\n",
              "<p>46009 rows × 23 columns</p>\n",
              "</div>\n",
              "    <div class=\"colab-df-buttons\">\n",
              "\n",
              "  <div class=\"colab-df-container\">\n",
              "    <button class=\"colab-df-convert\" onclick=\"convertToInteractive('df-3a6234b7-9145-4ae7-946e-69150bce7b77')\"\n",
              "            title=\"Convert this dataframe to an interactive table.\"\n",
              "            style=\"display:none;\">\n",
              "\n",
              "  <svg xmlns=\"http://www.w3.org/2000/svg\" height=\"24px\" viewBox=\"0 -960 960 960\">\n",
              "    <path d=\"M120-120v-720h720v720H120Zm60-500h600v-160H180v160Zm220 220h160v-160H400v160Zm0 220h160v-160H400v160ZM180-400h160v-160H180v160Zm440 0h160v-160H620v160ZM180-180h160v-160H180v160Zm440 0h160v-160H620v160Z\"/>\n",
              "  </svg>\n",
              "    </button>\n",
              "\n",
              "  <style>\n",
              "    .colab-df-container {\n",
              "      display:flex;\n",
              "      gap: 12px;\n",
              "    }\n",
              "\n",
              "    .colab-df-convert {\n",
              "      background-color: #E8F0FE;\n",
              "      border: none;\n",
              "      border-radius: 50%;\n",
              "      cursor: pointer;\n",
              "      display: none;\n",
              "      fill: #1967D2;\n",
              "      height: 32px;\n",
              "      padding: 0 0 0 0;\n",
              "      width: 32px;\n",
              "    }\n",
              "\n",
              "    .colab-df-convert:hover {\n",
              "      background-color: #E2EBFA;\n",
              "      box-shadow: 0px 1px 2px rgba(60, 64, 67, 0.3), 0px 1px 3px 1px rgba(60, 64, 67, 0.15);\n",
              "      fill: #174EA6;\n",
              "    }\n",
              "\n",
              "    .colab-df-buttons div {\n",
              "      margin-bottom: 4px;\n",
              "    }\n",
              "\n",
              "    [theme=dark] .colab-df-convert {\n",
              "      background-color: #3B4455;\n",
              "      fill: #D2E3FC;\n",
              "    }\n",
              "\n",
              "    [theme=dark] .colab-df-convert:hover {\n",
              "      background-color: #434B5C;\n",
              "      box-shadow: 0px 1px 3px 1px rgba(0, 0, 0, 0.15);\n",
              "      filter: drop-shadow(0px 1px 2px rgba(0, 0, 0, 0.3));\n",
              "      fill: #FFFFFF;\n",
              "    }\n",
              "  </style>\n",
              "\n",
              "    <script>\n",
              "      const buttonEl =\n",
              "        document.querySelector('#df-3a6234b7-9145-4ae7-946e-69150bce7b77 button.colab-df-convert');\n",
              "      buttonEl.style.display =\n",
              "        google.colab.kernel.accessAllowed ? 'block' : 'none';\n",
              "\n",
              "      async function convertToInteractive(key) {\n",
              "        const element = document.querySelector('#df-3a6234b7-9145-4ae7-946e-69150bce7b77');\n",
              "        const dataTable =\n",
              "          await google.colab.kernel.invokeFunction('convertToInteractive',\n",
              "                                                    [key], {});\n",
              "        if (!dataTable) return;\n",
              "\n",
              "        const docLinkHtml = 'Like what you see? Visit the ' +\n",
              "          '<a target=\"_blank\" href=https://colab.research.google.com/notebooks/data_table.ipynb>data table notebook</a>'\n",
              "          + ' to learn more about interactive tables.';\n",
              "        element.innerHTML = '';\n",
              "        dataTable['output_type'] = 'display_data';\n",
              "        await google.colab.output.renderOutput(dataTable, element);\n",
              "        const docLink = document.createElement('div');\n",
              "        docLink.innerHTML = docLinkHtml;\n",
              "        element.appendChild(docLink);\n",
              "      }\n",
              "    </script>\n",
              "  </div>\n",
              "\n",
              "\n",
              "<div id=\"df-72acfe6e-6218-4d84-9f0c-d561e4e78d2f\">\n",
              "  <button class=\"colab-df-quickchart\" onclick=\"quickchart('df-72acfe6e-6218-4d84-9f0c-d561e4e78d2f')\"\n",
              "            title=\"Suggest charts\"\n",
              "            style=\"display:none;\">\n",
              "\n",
              "<svg xmlns=\"http://www.w3.org/2000/svg\" height=\"24px\"viewBox=\"0 0 24 24\"\n",
              "     width=\"24px\">\n",
              "    <g>\n",
              "        <path d=\"M19 3H5c-1.1 0-2 .9-2 2v14c0 1.1.9 2 2 2h14c1.1 0 2-.9 2-2V5c0-1.1-.9-2-2-2zM9 17H7v-7h2v7zm4 0h-2V7h2v10zm4 0h-2v-4h2v4z\"/>\n",
              "    </g>\n",
              "</svg>\n",
              "  </button>\n",
              "\n",
              "<style>\n",
              "  .colab-df-quickchart {\n",
              "      --bg-color: #E8F0FE;\n",
              "      --fill-color: #1967D2;\n",
              "      --hover-bg-color: #E2EBFA;\n",
              "      --hover-fill-color: #174EA6;\n",
              "      --disabled-fill-color: #AAA;\n",
              "      --disabled-bg-color: #DDD;\n",
              "  }\n",
              "\n",
              "  [theme=dark] .colab-df-quickchart {\n",
              "      --bg-color: #3B4455;\n",
              "      --fill-color: #D2E3FC;\n",
              "      --hover-bg-color: #434B5C;\n",
              "      --hover-fill-color: #FFFFFF;\n",
              "      --disabled-bg-color: #3B4455;\n",
              "      --disabled-fill-color: #666;\n",
              "  }\n",
              "\n",
              "  .colab-df-quickchart {\n",
              "    background-color: var(--bg-color);\n",
              "    border: none;\n",
              "    border-radius: 50%;\n",
              "    cursor: pointer;\n",
              "    display: none;\n",
              "    fill: var(--fill-color);\n",
              "    height: 32px;\n",
              "    padding: 0;\n",
              "    width: 32px;\n",
              "  }\n",
              "\n",
              "  .colab-df-quickchart:hover {\n",
              "    background-color: var(--hover-bg-color);\n",
              "    box-shadow: 0 1px 2px rgba(60, 64, 67, 0.3), 0 1px 3px 1px rgba(60, 64, 67, 0.15);\n",
              "    fill: var(--button-hover-fill-color);\n",
              "  }\n",
              "\n",
              "  .colab-df-quickchart-complete:disabled,\n",
              "  .colab-df-quickchart-complete:disabled:hover {\n",
              "    background-color: var(--disabled-bg-color);\n",
              "    fill: var(--disabled-fill-color);\n",
              "    box-shadow: none;\n",
              "  }\n",
              "\n",
              "  .colab-df-spinner {\n",
              "    border: 2px solid var(--fill-color);\n",
              "    border-color: transparent;\n",
              "    border-bottom-color: var(--fill-color);\n",
              "    animation:\n",
              "      spin 1s steps(1) infinite;\n",
              "  }\n",
              "\n",
              "  @keyframes spin {\n",
              "    0% {\n",
              "      border-color: transparent;\n",
              "      border-bottom-color: var(--fill-color);\n",
              "      border-left-color: var(--fill-color);\n",
              "    }\n",
              "    20% {\n",
              "      border-color: transparent;\n",
              "      border-left-color: var(--fill-color);\n",
              "      border-top-color: var(--fill-color);\n",
              "    }\n",
              "    30% {\n",
              "      border-color: transparent;\n",
              "      border-left-color: var(--fill-color);\n",
              "      border-top-color: var(--fill-color);\n",
              "      border-right-color: var(--fill-color);\n",
              "    }\n",
              "    40% {\n",
              "      border-color: transparent;\n",
              "      border-right-color: var(--fill-color);\n",
              "      border-top-color: var(--fill-color);\n",
              "    }\n",
              "    60% {\n",
              "      border-color: transparent;\n",
              "      border-right-color: var(--fill-color);\n",
              "    }\n",
              "    80% {\n",
              "      border-color: transparent;\n",
              "      border-right-color: var(--fill-color);\n",
              "      border-bottom-color: var(--fill-color);\n",
              "    }\n",
              "    90% {\n",
              "      border-color: transparent;\n",
              "      border-bottom-color: var(--fill-color);\n",
              "    }\n",
              "  }\n",
              "</style>\n",
              "\n",
              "  <script>\n",
              "    async function quickchart(key) {\n",
              "      const quickchartButtonEl =\n",
              "        document.querySelector('#' + key + ' button');\n",
              "      quickchartButtonEl.disabled = true;  // To prevent multiple clicks.\n",
              "      quickchartButtonEl.classList.add('colab-df-spinner');\n",
              "      try {\n",
              "        const charts = await google.colab.kernel.invokeFunction(\n",
              "            'suggestCharts', [key], {});\n",
              "      } catch (error) {\n",
              "        console.error('Error during call to suggestCharts:', error);\n",
              "      }\n",
              "      quickchartButtonEl.classList.remove('colab-df-spinner');\n",
              "      quickchartButtonEl.classList.add('colab-df-quickchart-complete');\n",
              "    }\n",
              "    (() => {\n",
              "      let quickchartButtonEl =\n",
              "        document.querySelector('#df-72acfe6e-6218-4d84-9f0c-d561e4e78d2f button');\n",
              "      quickchartButtonEl.style.display =\n",
              "        google.colab.kernel.accessAllowed ? 'block' : 'none';\n",
              "    })();\n",
              "  </script>\n",
              "</div>\n",
              "\n",
              "  <div id=\"id_d1114888-68c2-4bd9-bc60-b32091aad1d9\">\n",
              "    <style>\n",
              "      .colab-df-generate {\n",
              "        background-color: #E8F0FE;\n",
              "        border: none;\n",
              "        border-radius: 50%;\n",
              "        cursor: pointer;\n",
              "        display: none;\n",
              "        fill: #1967D2;\n",
              "        height: 32px;\n",
              "        padding: 0 0 0 0;\n",
              "        width: 32px;\n",
              "      }\n",
              "\n",
              "      .colab-df-generate:hover {\n",
              "        background-color: #E2EBFA;\n",
              "        box-shadow: 0px 1px 2px rgba(60, 64, 67, 0.3), 0px 1px 3px 1px rgba(60, 64, 67, 0.15);\n",
              "        fill: #174EA6;\n",
              "      }\n",
              "\n",
              "      [theme=dark] .colab-df-generate {\n",
              "        background-color: #3B4455;\n",
              "        fill: #D2E3FC;\n",
              "      }\n",
              "\n",
              "      [theme=dark] .colab-df-generate:hover {\n",
              "        background-color: #434B5C;\n",
              "        box-shadow: 0px 1px 3px 1px rgba(0, 0, 0, 0.15);\n",
              "        filter: drop-shadow(0px 1px 2px rgba(0, 0, 0, 0.3));\n",
              "        fill: #FFFFFF;\n",
              "      }\n",
              "    </style>\n",
              "    <button class=\"colab-df-generate\" onclick=\"generateWithVariable('df_place')\"\n",
              "            title=\"Generate code using this dataframe.\"\n",
              "            style=\"display:none;\">\n",
              "\n",
              "  <svg xmlns=\"http://www.w3.org/2000/svg\" height=\"24px\"viewBox=\"0 0 24 24\"\n",
              "       width=\"24px\">\n",
              "    <path d=\"M7,19H8.4L18.45,9,17,7.55,7,17.6ZM5,21V16.75L18.45,3.32a2,2,0,0,1,2.83,0l1.4,1.43a1.91,1.91,0,0,1,.58,1.4,1.91,1.91,0,0,1-.58,1.4L9.25,21ZM18.45,9,17,7.55Zm-12,3A5.31,5.31,0,0,0,4.9,8.1,5.31,5.31,0,0,0,1,6.5,5.31,5.31,0,0,0,4.9,4.9,5.31,5.31,0,0,0,6.5,1,5.31,5.31,0,0,0,8.1,4.9,5.31,5.31,0,0,0,12,6.5,5.46,5.46,0,0,0,6.5,12Z\"/>\n",
              "  </svg>\n",
              "    </button>\n",
              "    <script>\n",
              "      (() => {\n",
              "      const buttonEl =\n",
              "        document.querySelector('#id_d1114888-68c2-4bd9-bc60-b32091aad1d9 button.colab-df-generate');\n",
              "      buttonEl.style.display =\n",
              "        google.colab.kernel.accessAllowed ? 'block' : 'none';\n",
              "\n",
              "      buttonEl.onclick = () => {\n",
              "        google.colab.notebook.generateWithVariable('df_place');\n",
              "      }\n",
              "      })();\n",
              "    </script>\n",
              "  </div>\n",
              "\n",
              "    </div>\n",
              "  </div>\n"
            ],
            "application/vnd.google.colaboratory.intrinsic+json": {
              "type": "dataframe",
              "variable_name": "df_place"
            }
          },
          "metadata": {},
          "execution_count": 19
        }
      ]
    },
    {
      "cell_type": "markdown",
      "source": [
        "여행 정보"
      ],
      "metadata": {
        "id": "DJaE1cwkLSAa"
      }
    },
    {
      "cell_type": "code",
      "source": [
        "df_travel = pd.read_csv('/content/drive/MyDrive/Data/Travel_Jeju2023/tn_travel_여행_H.csv')\n",
        "\n",
        "#df_travel"
      ],
      "metadata": {
        "id": "PncDolM6K0B5",
        "collapsed": true
      },
      "execution_count": 5,
      "outputs": []
    },
    {
      "cell_type": "markdown",
      "source": [
        "방문객 정보"
      ],
      "metadata": {
        "id": "0FNY7ZfHLUyT"
      }
    },
    {
      "cell_type": "code",
      "source": [
        "df_traveler = pd.read_csv('/content/drive/MyDrive/Data/Travel_Jeju2023/tn_traveller_master_여행객 Master_H.csv')\n",
        "\n",
        "#df_traveler"
      ],
      "metadata": {
        "id": "q8ophekeLWj2",
        "collapsed": true
      },
      "execution_count": 6,
      "outputs": []
    },
    {
      "cell_type": "markdown",
      "source": [
        "Data Merge"
      ],
      "metadata": {
        "id": "3Ph5jt_8Lbsh"
      }
    },
    {
      "cell_type": "code",
      "source": [
        "# Pandas의 Merge를 이용하여 data를 합\n",
        "df = pd.merge(df_place, df_travel, on = 'TRAVEL_ID', how = 'left')\n",
        "df = pd.merge(df, df_traveler, on = 'TRAVELER_ID', how = 'left')\n",
        "\n",
        "#df"
      ],
      "metadata": {
        "id": "Q4Ag0M2gLc92",
        "collapsed": true
      },
      "execution_count": 7,
      "outputs": []
    },
    {
      "cell_type": "code",
      "source": [
        "df[df['TRAVEL_ID'] == 'a_a015688']"
      ],
      "metadata": {
        "id": "o4quTxVQLpJY",
        "colab": {
          "base_uri": "https://localhost:8080/",
          "height": 99
        },
        "outputId": "daa32e0d-b569-489b-a0d1-7529e69cecd0"
      },
      "execution_count": 8,
      "outputs": [
        {
          "output_type": "execute_result",
          "data": {
            "text/plain": [
              "Empty DataFrame\n",
              "Columns: [VISIT_AREA_ID, TRAVEL_ID, VISIT_ORDER, VISIT_AREA_NM, VISIT_START_YMD, VISIT_END_YMD, ROAD_NM_ADDR, LOTNO_ADDR, X_COORD, Y_COORD, ROAD_NM_CD, LOTNO_CD, POI_ID, POI_NM, RESIDENCE_TIME_MIN, VISIT_AREA_TYPE_CD, REVISIT_YN, VISIT_CHC_REASON_CD, LODGING_TYPE_CD, DGSTFN, REVISIT_INTENTION, RCMDTN_INTENTION, SGG_CD, TRAVEL_NM, TRAVELER_ID, TRAVEL_PURPOSE, TRAVEL_START_YMD, TRAVEL_END_YMD, MVMN_NM, TRAVEL_PERSONA, TRAVEL_MISSION, TRAVEL_MISSION_CHECK, RESIDENCE_SGG_CD, GENDER, AGE_GRP, EDU_NM, EDU_FNSH_SE, MARR_STTS, FAMILY_MEMB, JOB_NM, JOB_ETC, INCOME, HOUSE_INCOME, TRAVEL_TERM, TRAVEL_NUM, TRAVEL_LIKE_SIDO_1, TRAVEL_LIKE_SGG_1, TRAVEL_LIKE_SIDO_2, TRAVEL_LIKE_SGG_2, TRAVEL_LIKE_SIDO_3, TRAVEL_LIKE_SGG_3, TRAVEL_STYL_1, TRAVEL_STYL_2, TRAVEL_STYL_3, TRAVEL_STYL_4, TRAVEL_STYL_5, TRAVEL_STYL_6, TRAVEL_STYL_7, TRAVEL_STYL_8, TRAVEL_STATUS_RESIDENCE, TRAVEL_STATUS_DESTINATION, TRAVEL_STATUS_ACCOMPANY, TRAVEL_STATUS_YMD, TRAVEL_MOTIVE_1, TRAVEL_MOTIVE_2, TRAVEL_MOTIVE_3, TRAVEL_COMPANIONS_NUM]\n",
              "Index: []\n",
              "\n",
              "[0 rows x 67 columns]"
            ],
            "text/html": [
              "\n",
              "  <div id=\"df-e0633039-c9b5-4770-b7d9-60fc659fd427\" class=\"colab-df-container\">\n",
              "    <div>\n",
              "<style scoped>\n",
              "    .dataframe tbody tr th:only-of-type {\n",
              "        vertical-align: middle;\n",
              "    }\n",
              "\n",
              "    .dataframe tbody tr th {\n",
              "        vertical-align: top;\n",
              "    }\n",
              "\n",
              "    .dataframe thead th {\n",
              "        text-align: right;\n",
              "    }\n",
              "</style>\n",
              "<table border=\"1\" class=\"dataframe\">\n",
              "  <thead>\n",
              "    <tr style=\"text-align: right;\">\n",
              "      <th></th>\n",
              "      <th>VISIT_AREA_ID</th>\n",
              "      <th>TRAVEL_ID</th>\n",
              "      <th>VISIT_ORDER</th>\n",
              "      <th>VISIT_AREA_NM</th>\n",
              "      <th>VISIT_START_YMD</th>\n",
              "      <th>VISIT_END_YMD</th>\n",
              "      <th>ROAD_NM_ADDR</th>\n",
              "      <th>LOTNO_ADDR</th>\n",
              "      <th>X_COORD</th>\n",
              "      <th>Y_COORD</th>\n",
              "      <th>...</th>\n",
              "      <th>TRAVEL_STYL_7</th>\n",
              "      <th>TRAVEL_STYL_8</th>\n",
              "      <th>TRAVEL_STATUS_RESIDENCE</th>\n",
              "      <th>TRAVEL_STATUS_DESTINATION</th>\n",
              "      <th>TRAVEL_STATUS_ACCOMPANY</th>\n",
              "      <th>TRAVEL_STATUS_YMD</th>\n",
              "      <th>TRAVEL_MOTIVE_1</th>\n",
              "      <th>TRAVEL_MOTIVE_2</th>\n",
              "      <th>TRAVEL_MOTIVE_3</th>\n",
              "      <th>TRAVEL_COMPANIONS_NUM</th>\n",
              "    </tr>\n",
              "  </thead>\n",
              "  <tbody>\n",
              "  </tbody>\n",
              "</table>\n",
              "<p>0 rows × 67 columns</p>\n",
              "</div>\n",
              "    <div class=\"colab-df-buttons\">\n",
              "\n",
              "  <div class=\"colab-df-container\">\n",
              "    <button class=\"colab-df-convert\" onclick=\"convertToInteractive('df-e0633039-c9b5-4770-b7d9-60fc659fd427')\"\n",
              "            title=\"Convert this dataframe to an interactive table.\"\n",
              "            style=\"display:none;\">\n",
              "\n",
              "  <svg xmlns=\"http://www.w3.org/2000/svg\" height=\"24px\" viewBox=\"0 -960 960 960\">\n",
              "    <path d=\"M120-120v-720h720v720H120Zm60-500h600v-160H180v160Zm220 220h160v-160H400v160Zm0 220h160v-160H400v160ZM180-400h160v-160H180v160Zm440 0h160v-160H620v160ZM180-180h160v-160H180v160Zm440 0h160v-160H620v160Z\"/>\n",
              "  </svg>\n",
              "    </button>\n",
              "\n",
              "  <style>\n",
              "    .colab-df-container {\n",
              "      display:flex;\n",
              "      gap: 12px;\n",
              "    }\n",
              "\n",
              "    .colab-df-convert {\n",
              "      background-color: #E8F0FE;\n",
              "      border: none;\n",
              "      border-radius: 50%;\n",
              "      cursor: pointer;\n",
              "      display: none;\n",
              "      fill: #1967D2;\n",
              "      height: 32px;\n",
              "      padding: 0 0 0 0;\n",
              "      width: 32px;\n",
              "    }\n",
              "\n",
              "    .colab-df-convert:hover {\n",
              "      background-color: #E2EBFA;\n",
              "      box-shadow: 0px 1px 2px rgba(60, 64, 67, 0.3), 0px 1px 3px 1px rgba(60, 64, 67, 0.15);\n",
              "      fill: #174EA6;\n",
              "    }\n",
              "\n",
              "    .colab-df-buttons div {\n",
              "      margin-bottom: 4px;\n",
              "    }\n",
              "\n",
              "    [theme=dark] .colab-df-convert {\n",
              "      background-color: #3B4455;\n",
              "      fill: #D2E3FC;\n",
              "    }\n",
              "\n",
              "    [theme=dark] .colab-df-convert:hover {\n",
              "      background-color: #434B5C;\n",
              "      box-shadow: 0px 1px 3px 1px rgba(0, 0, 0, 0.15);\n",
              "      filter: drop-shadow(0px 1px 2px rgba(0, 0, 0, 0.3));\n",
              "      fill: #FFFFFF;\n",
              "    }\n",
              "  </style>\n",
              "\n",
              "    <script>\n",
              "      const buttonEl =\n",
              "        document.querySelector('#df-e0633039-c9b5-4770-b7d9-60fc659fd427 button.colab-df-convert');\n",
              "      buttonEl.style.display =\n",
              "        google.colab.kernel.accessAllowed ? 'block' : 'none';\n",
              "\n",
              "      async function convertToInteractive(key) {\n",
              "        const element = document.querySelector('#df-e0633039-c9b5-4770-b7d9-60fc659fd427');\n",
              "        const dataTable =\n",
              "          await google.colab.kernel.invokeFunction('convertToInteractive',\n",
              "                                                    [key], {});\n",
              "        if (!dataTable) return;\n",
              "\n",
              "        const docLinkHtml = 'Like what you see? Visit the ' +\n",
              "          '<a target=\"_blank\" href=https://colab.research.google.com/notebooks/data_table.ipynb>data table notebook</a>'\n",
              "          + ' to learn more about interactive tables.';\n",
              "        element.innerHTML = '';\n",
              "        dataTable['output_type'] = 'display_data';\n",
              "        await google.colab.output.renderOutput(dataTable, element);\n",
              "        const docLink = document.createElement('div');\n",
              "        docLink.innerHTML = docLinkHtml;\n",
              "        element.appendChild(docLink);\n",
              "      }\n",
              "    </script>\n",
              "  </div>\n",
              "\n",
              "\n",
              "    </div>\n",
              "  </div>\n"
            ],
            "application/vnd.google.colaboratory.intrinsic+json": {
              "type": "dataframe"
            }
          },
          "metadata": {},
          "execution_count": 8
        }
      ]
    },
    {
      "cell_type": "markdown",
      "source": [
        "데이터셋 전처리"
      ],
      "metadata": {
        "id": "WQmamxSBL3_v"
      }
    },
    {
      "cell_type": "code",
      "source": [
        "# null이 아닌 것들을 추출\n",
        "df_filter = df[~df['TRAVEL_MISSION_CHECK'].isnull()].copy()\n",
        "# 세미콜론으로 구분이 되어 있기 때문에, 가장 첫번째 거를 뽑아서 숫자 형태로 변경 후 다시 넣어줌\n",
        "df_filter.loc[:, 'TRAVEL_MISSION_INT'] = df_filter['TRAVEL_MISSION_CHECK'].str.split(';').str[0].astype(int)\n",
        "\n",
        "#df_filter"
      ],
      "metadata": {
        "id": "9joyxxOqL5ff"
      },
      "execution_count": 9,
      "outputs": []
    },
    {
      "cell_type": "markdown",
      "source": [
        "전처리 2\n",
        "-필요한 열만 추출\n",
        "-비어있는 행 삭제"
      ],
      "metadata": {
        "id": "7Z1KKWXeM3bb"
      }
    },
    {
      "cell_type": "code",
      "source": [
        "df_filter = df_filter[[\n",
        "    'GENDER',\n",
        "    'AGE_GRP',\n",
        "    'TRAVEL_STYL_1', 'TRAVEL_STYL_2', 'TRAVEL_STYL_3', 'TRAVEL_STYL_4', 'TRAVEL_STYL_5','TRAVEL_STYL_6','TRAVEL_STYL_7', 'TRAVEL_STYL_8',\n",
        "    'TRAVEL_MOTIVE_1',\n",
        "    'TRAVEL_COMPANIONS_NUM',\n",
        "    'TRAVEL_MISSION_INT',\n",
        "    'VISIT_AREA_NM',\n",
        "    'DGSTFN',\n",
        "]]\n",
        "# dropna를 사용해서 나머지 지우\n",
        "df_filter = df_filter.dropna()\n",
        "\n",
        "#df_filter"
      ],
      "metadata": {
        "id": "HaJrNTFkM96-"
      },
      "execution_count": 10,
      "outputs": []
    },
    {
      "cell_type": "markdown",
      "source": [
        "전처리 3-\n",
        "범주형 데이터 처리"
      ],
      "metadata": {
        "id": "JB7Ha758Nwd4"
      }
    },
    {
      "cell_type": "code",
      "source": [
        "# 범주형 데이터라는 것을 정의해주기 위해 categorical_features_names 라는 변수를 지정\n",
        "categorical_features_names = [\n",
        "    'GENDER',\n",
        "    # 'AGE_GRP',\n",
        "    'TRAVEL_STYL_1', 'TRAVEL_STYL_2', 'TRAVEL_STYL_3', 'TRAVEL_STYL_4', 'TRAVEL_STYL_5','TRAVEL_STYL_6','TRAVEL_STYL_7', 'TRAVEL_STYL_8',\n",
        "    'TRAVEL_MOTIVE_1',\n",
        "    # 'TRAVEL_COMPANIONS_NUM',\n",
        "    'TRAVEL_MISSION_INT',\n",
        "    'VISIT_AREA_NM',\n",
        "    # 'DGSTFN',\n",
        "]\n",
        "# int형으로 변경\n",
        "df_filter[categorical_features_names[1:-1]] = df_filter[categorical_features_names[1:-1]].astype(int)\n",
        "\n",
        "#df_filter"
      ],
      "metadata": {
        "id": "wnzWAeKGN_Pp"
      },
      "execution_count": 11,
      "outputs": []
    },
    {
      "cell_type": "markdown",
      "source": [
        "전처리 4\n",
        "- 학습 / 테스트 데이터 분할"
      ],
      "metadata": {
        "id": "cET21njbOm9N"
      }
    },
    {
      "cell_type": "code",
      "source": [
        "from sklearn.model_selection import train_test_split\n",
        "\n",
        "train_data, test_data = train_test_split(df_filter, test_size = 0.2, random_state = 42)\n",
        "\n",
        "print(train_data.shape)\n",
        "print(test_data.shape)"
      ],
      "metadata": {
        "id": "BeESE8mLOpy4",
        "colab": {
          "base_uri": "https://localhost:8080/"
        },
        "outputId": "68f32006-fb01-4b56-8357-1ad690b40ad6"
      },
      "execution_count": 12,
      "outputs": [
        {
          "output_type": "stream",
          "name": "stdout",
          "text": [
            "(32375, 15)\n",
            "(8094, 15)\n"
          ]
        }
      ]
    },
    {
      "cell_type": "markdown",
      "source": [
        "catboost 사용"
      ],
      "metadata": {
        "id": "gfbEbGuaOTpo"
      }
    },
    {
      "cell_type": "code",
      "source": [
        "!pip install -q catboost"
      ],
      "metadata": {
        "id": "MOlVdhw2Oloy"
      },
      "execution_count": 13,
      "outputs": []
    },
    {
      "cell_type": "code",
      "source": [
        "#!pip install numpy==1.23.5 --force-reinstall"
      ],
      "metadata": {
        "colab": {
          "base_uri": "https://localhost:8080/",
          "height": 556
        },
        "id": "EhV2uE9nvC3K",
        "outputId": "68aba549-0a5b-40c1-8f09-1e9a40fd86e9"
      },
      "execution_count": 13,
      "outputs": [
        {
          "output_type": "stream",
          "name": "stdout",
          "text": [
            "Collecting numpy==1.23.5\n",
            "  Downloading numpy-1.23.5-cp311-cp311-manylinux_2_17_x86_64.manylinux2014_x86_64.whl.metadata (2.3 kB)\n",
            "Downloading numpy-1.23.5-cp311-cp311-manylinux_2_17_x86_64.manylinux2014_x86_64.whl (17.1 MB)\n",
            "\u001b[2K   \u001b[90m━━━━━━━━━━━━━━━━━━━━━━━━━━━━━━━━━━━━━━━━\u001b[0m \u001b[32m17.1/17.1 MB\u001b[0m \u001b[31m53.1 MB/s\u001b[0m eta \u001b[36m0:00:00\u001b[0m\n",
            "\u001b[?25hInstalling collected packages: numpy\n",
            "  Attempting uninstall: numpy\n",
            "    Found existing installation: numpy 1.26.4\n",
            "    Uninstalling numpy-1.26.4:\n",
            "      Successfully uninstalled numpy-1.26.4\n",
            "\u001b[31mERROR: pip's dependency resolver does not currently take into account all the packages that are installed. This behaviour is the source of the following dependency conflicts.\n",
            "chex 0.1.89 requires numpy>=1.24.1, but you have numpy 1.23.5 which is incompatible.\n",
            "pymc 5.21.1 requires numpy>=1.25.0, but you have numpy 1.23.5 which is incompatible.\n",
            "tensorflow 2.18.0 requires numpy<2.1.0,>=1.26.0, but you have numpy 1.23.5 which is incompatible.\n",
            "xarray 2025.1.2 requires numpy>=1.24, but you have numpy 1.23.5 which is incompatible.\n",
            "blosc2 3.2.0 requires numpy>=1.26, but you have numpy 1.23.5 which is incompatible.\n",
            "albucore 0.0.23 requires numpy>=1.24.4, but you have numpy 1.23.5 which is incompatible.\n",
            "jax 0.5.2 requires numpy>=1.25, but you have numpy 1.23.5 which is incompatible.\n",
            "treescope 0.1.9 requires numpy>=1.25.2, but you have numpy 1.23.5 which is incompatible.\n",
            "jaxlib 0.5.1 requires numpy>=1.25, but you have numpy 1.23.5 which is incompatible.\n",
            "imbalanced-learn 0.13.0 requires numpy<3,>=1.24.3, but you have numpy 1.23.5 which is incompatible.\n",
            "scikit-image 0.25.2 requires numpy>=1.24, but you have numpy 1.23.5 which is incompatible.\n",
            "bigframes 1.41.0 requires numpy>=1.24.0, but you have numpy 1.23.5 which is incompatible.\n",
            "albumentations 2.0.5 requires numpy>=1.24.4, but you have numpy 1.23.5 which is incompatible.\u001b[0m\u001b[31m\n",
            "\u001b[0mSuccessfully installed numpy-1.23.5\n"
          ]
        },
        {
          "output_type": "display_data",
          "data": {
            "application/vnd.colab-display-data+json": {
              "pip_warning": {
                "packages": [
                  "numpy"
                ]
              },
              "id": "3e6c08080d8e444f90264dc9309dd022"
            }
          },
          "metadata": {}
        }
      ]
    },
    {
      "cell_type": "markdown",
      "source": [
        "데이터 형태 정의"
      ],
      "metadata": {
        "id": "BupAgz6TPApD"
      }
    },
    {
      "cell_type": "code",
      "source": [
        "from catboost import CatBoostRegressor, Pool\n",
        "\n",
        "# 만족도 예측하는 모델\n",
        "# Feature가 만족도를 제외한 모든 것\n",
        "train_pool = Pool(train_data.drop(['DGSTFN'], axis = 1), # X\n",
        "                  label = train_data['DGSTFN'],          # Y\n",
        "                  cat_features=categorical_features_names)\n",
        "\n",
        "test_pool = Pool(test_data.drop(['DGSTFN'], axis = 1),\n",
        "                  label = test_data['DGSTFN'],\n",
        "                  cat_features=categorical_features_names)"
      ],
      "metadata": {
        "id": "pXbrmSCtPAVA"
      },
      "execution_count": 14,
      "outputs": []
    },
    {
      "cell_type": "markdown",
      "source": [
        "모델 정의 및 Train"
      ],
      "metadata": {
        "id": "ww7rGNmzPZ2M"
      }
    },
    {
      "cell_type": "code",
      "source": [
        "model = CatBoostRegressor(\n",
        "    loss_function = 'RMSE',  #Root Mean Squared Error\n",
        "    eval_metric = 'MAE',\n",
        "    task_type = 'GPU',      # CPU vs GPU\n",
        "    depth = 6,              # depth가 깊어질수록 성능이 좋아질 수 있지만 오래 걸림\n",
        "    learning_rate = 0.01,\n",
        "    n_estimators = 2000\n",
        ")\n",
        "\n",
        "model.fit(\n",
        "    train_pool,\n",
        "    eval_set = test_pool,\n",
        "    verbose = 500,        # 500번마다 로그 찍기\n",
        "    plot = True\n",
        ")"
      ],
      "metadata": {
        "id": "ht5YVOQ6Pb7o",
        "colab": {
          "base_uri": "https://localhost:8080/",
          "height": 181,
          "referenced_widgets": [
            "67a14571a8a5478d88db857c8fb3afe4"
          ]
        },
        "outputId": "9308c1e6-52ca-4c2f-cabc-9bc2e3600edf"
      },
      "execution_count": 15,
      "outputs": [
        {
          "output_type": "display_data",
          "data": {
            "text/plain": [
              "MetricVisualizer(layout=Layout(align_self='stretch', height='500px'))"
            ],
            "application/vnd.jupyter.widget-view+json": {
              "version_major": 2,
              "version_minor": 0,
              "model_id": "67a14571a8a5478d88db857c8fb3afe4"
            }
          },
          "metadata": {}
        },
        {
          "output_type": "stream",
          "name": "stderr",
          "text": [
            "Default metric period is 5 because MAE is/are not implemented for GPU\n"
          ]
        },
        {
          "output_type": "stream",
          "name": "stdout",
          "text": [
            "0:\tlearn: 0.6814988\ttest: 0.6891579\tbest: 0.6891579 (0)\ttotal: 132ms\tremaining: 4m 24s\n",
            "500:\tlearn: 0.5887496\ttest: 0.5779132\tbest: 0.5779132 (500)\ttotal: 27s\tremaining: 1m 20s\n",
            "1000:\tlearn: 0.5698406\ttest: 0.5586453\tbest: 0.5586453 (1000)\ttotal: 46.7s\tremaining: 46.7s\n",
            "1500:\tlearn: 0.5657029\ttest: 0.5557974\tbest: 0.5557879 (1490)\ttotal: 1m 3s\tremaining: 21.3s\n",
            "1999:\tlearn: 0.5636583\ttest: 0.5548483\tbest: 0.5548483 (1999)\ttotal: 1m 21s\tremaining: 0us\n",
            "bestTest = 0.55484833\n",
            "bestIteration = 1999\n"
          ]
        },
        {
          "output_type": "execute_result",
          "data": {
            "text/plain": [
              "<catboost.core.CatBoostRegressor at 0x7c6cd35b8b50>"
            ]
          },
          "metadata": {},
          "execution_count": 15
        }
      ]
    },
    {
      "cell_type": "code",
      "source": [
        "test_data.iloc[0]"
      ],
      "metadata": {
        "id": "-27_qQVVQR-R",
        "colab": {
          "base_uri": "https://localhost:8080/",
          "height": 554
        },
        "outputId": "2b817a1d-2184-4589-9515-66c66b3d76ff"
      },
      "execution_count": 16,
      "outputs": [
        {
          "output_type": "execute_result",
          "data": {
            "text/plain": [
              "GENDER                         여\n",
              "AGE_GRP                       30\n",
              "TRAVEL_STYL_1                  2\n",
              "TRAVEL_STYL_2                  5\n",
              "TRAVEL_STYL_3                  1\n",
              "TRAVEL_STYL_4                  6\n",
              "TRAVEL_STYL_5                  4\n",
              "TRAVEL_STYL_6                  4\n",
              "TRAVEL_STYL_7                  6\n",
              "TRAVEL_STYL_8                  5\n",
              "TRAVEL_MOTIVE_1                1\n",
              "TRAVEL_COMPANIONS_NUM          1\n",
              "TRAVEL_MISSION_INT             2\n",
              "VISIT_AREA_NM            보고타 렌터카\n",
              "DGSTFN                       4.0\n",
              "Name: 38420, dtype: object"
            ],
            "text/html": [
              "<div>\n",
              "<style scoped>\n",
              "    .dataframe tbody tr th:only-of-type {\n",
              "        vertical-align: middle;\n",
              "    }\n",
              "\n",
              "    .dataframe tbody tr th {\n",
              "        vertical-align: top;\n",
              "    }\n",
              "\n",
              "    .dataframe thead th {\n",
              "        text-align: right;\n",
              "    }\n",
              "</style>\n",
              "<table border=\"1\" class=\"dataframe\">\n",
              "  <thead>\n",
              "    <tr style=\"text-align: right;\">\n",
              "      <th></th>\n",
              "      <th>38420</th>\n",
              "    </tr>\n",
              "  </thead>\n",
              "  <tbody>\n",
              "    <tr>\n",
              "      <th>GENDER</th>\n",
              "      <td>여</td>\n",
              "    </tr>\n",
              "    <tr>\n",
              "      <th>AGE_GRP</th>\n",
              "      <td>30</td>\n",
              "    </tr>\n",
              "    <tr>\n",
              "      <th>TRAVEL_STYL_1</th>\n",
              "      <td>2</td>\n",
              "    </tr>\n",
              "    <tr>\n",
              "      <th>TRAVEL_STYL_2</th>\n",
              "      <td>5</td>\n",
              "    </tr>\n",
              "    <tr>\n",
              "      <th>TRAVEL_STYL_3</th>\n",
              "      <td>1</td>\n",
              "    </tr>\n",
              "    <tr>\n",
              "      <th>TRAVEL_STYL_4</th>\n",
              "      <td>6</td>\n",
              "    </tr>\n",
              "    <tr>\n",
              "      <th>TRAVEL_STYL_5</th>\n",
              "      <td>4</td>\n",
              "    </tr>\n",
              "    <tr>\n",
              "      <th>TRAVEL_STYL_6</th>\n",
              "      <td>4</td>\n",
              "    </tr>\n",
              "    <tr>\n",
              "      <th>TRAVEL_STYL_7</th>\n",
              "      <td>6</td>\n",
              "    </tr>\n",
              "    <tr>\n",
              "      <th>TRAVEL_STYL_8</th>\n",
              "      <td>5</td>\n",
              "    </tr>\n",
              "    <tr>\n",
              "      <th>TRAVEL_MOTIVE_1</th>\n",
              "      <td>1</td>\n",
              "    </tr>\n",
              "    <tr>\n",
              "      <th>TRAVEL_COMPANIONS_NUM</th>\n",
              "      <td>1</td>\n",
              "    </tr>\n",
              "    <tr>\n",
              "      <th>TRAVEL_MISSION_INT</th>\n",
              "      <td>2</td>\n",
              "    </tr>\n",
              "    <tr>\n",
              "      <th>VISIT_AREA_NM</th>\n",
              "      <td>보고타 렌터카</td>\n",
              "    </tr>\n",
              "    <tr>\n",
              "      <th>DGSTFN</th>\n",
              "      <td>4.0</td>\n",
              "    </tr>\n",
              "  </tbody>\n",
              "</table>\n",
              "</div><br><label><b>dtype:</b> object</label>"
            ]
          },
          "metadata": {},
          "execution_count": 16
        }
      ]
    },
    {
      "cell_type": "code",
      "source": [
        "model.predict(test_data.iloc[0].drop(['DGSTFN']))"
      ],
      "metadata": {
        "id": "YssvNVsKQUPu",
        "colab": {
          "base_uri": "https://localhost:8080/"
        },
        "outputId": "e8b83842-8761-46ec-c3f9-6f5b411ae083"
      },
      "execution_count": 17,
      "outputs": [
        {
          "output_type": "execute_result",
          "data": {
            "text/plain": [
              "4.4839358480081675"
            ]
          },
          "metadata": {},
          "execution_count": 17
        }
      ]
    },
    {
      "cell_type": "markdown",
      "source": [
        "주요 특징"
      ],
      "metadata": {
        "id": "3mD7xzjVQdiD"
      }
    },
    {
      "cell_type": "code",
      "source": [
        "model.get_feature_importance(prettified=True)"
      ],
      "metadata": {
        "id": "EnA0TsUUQedW",
        "colab": {
          "base_uri": "https://localhost:8080/",
          "height": 488
        },
        "outputId": "1fd0302f-589c-4254-abeb-f5702b730767"
      },
      "execution_count": 18,
      "outputs": [
        {
          "output_type": "execute_result",
          "data": {
            "text/plain": [
              "               Feature Id  Importances\n",
              "0      TRAVEL_MISSION_INT    16.442680\n",
              "1           VISIT_AREA_NM    11.171840\n",
              "2           TRAVEL_STYL_6    10.927783\n",
              "3           TRAVEL_STYL_8    10.765119\n",
              "4         TRAVEL_MOTIVE_1     7.380183\n",
              "5           TRAVEL_STYL_4     6.870638\n",
              "6           TRAVEL_STYL_1     6.870197\n",
              "7           TRAVEL_STYL_7     6.641648\n",
              "8           TRAVEL_STYL_5     6.360310\n",
              "9           TRAVEL_STYL_2     5.296363\n",
              "10                AGE_GRP     4.292728\n",
              "11          TRAVEL_STYL_3     3.776465\n",
              "12  TRAVEL_COMPANIONS_NUM     2.646452\n",
              "13                 GENDER     0.557593"
            ],
            "text/html": [
              "\n",
              "  <div id=\"df-381c0fd3-8ccb-4684-a1f0-ee27da1dbda9\" class=\"colab-df-container\">\n",
              "    <div>\n",
              "<style scoped>\n",
              "    .dataframe tbody tr th:only-of-type {\n",
              "        vertical-align: middle;\n",
              "    }\n",
              "\n",
              "    .dataframe tbody tr th {\n",
              "        vertical-align: top;\n",
              "    }\n",
              "\n",
              "    .dataframe thead th {\n",
              "        text-align: right;\n",
              "    }\n",
              "</style>\n",
              "<table border=\"1\" class=\"dataframe\">\n",
              "  <thead>\n",
              "    <tr style=\"text-align: right;\">\n",
              "      <th></th>\n",
              "      <th>Feature Id</th>\n",
              "      <th>Importances</th>\n",
              "    </tr>\n",
              "  </thead>\n",
              "  <tbody>\n",
              "    <tr>\n",
              "      <th>0</th>\n",
              "      <td>TRAVEL_MISSION_INT</td>\n",
              "      <td>16.442680</td>\n",
              "    </tr>\n",
              "    <tr>\n",
              "      <th>1</th>\n",
              "      <td>VISIT_AREA_NM</td>\n",
              "      <td>11.171840</td>\n",
              "    </tr>\n",
              "    <tr>\n",
              "      <th>2</th>\n",
              "      <td>TRAVEL_STYL_6</td>\n",
              "      <td>10.927783</td>\n",
              "    </tr>\n",
              "    <tr>\n",
              "      <th>3</th>\n",
              "      <td>TRAVEL_STYL_8</td>\n",
              "      <td>10.765119</td>\n",
              "    </tr>\n",
              "    <tr>\n",
              "      <th>4</th>\n",
              "      <td>TRAVEL_MOTIVE_1</td>\n",
              "      <td>7.380183</td>\n",
              "    </tr>\n",
              "    <tr>\n",
              "      <th>5</th>\n",
              "      <td>TRAVEL_STYL_4</td>\n",
              "      <td>6.870638</td>\n",
              "    </tr>\n",
              "    <tr>\n",
              "      <th>6</th>\n",
              "      <td>TRAVEL_STYL_1</td>\n",
              "      <td>6.870197</td>\n",
              "    </tr>\n",
              "    <tr>\n",
              "      <th>7</th>\n",
              "      <td>TRAVEL_STYL_7</td>\n",
              "      <td>6.641648</td>\n",
              "    </tr>\n",
              "    <tr>\n",
              "      <th>8</th>\n",
              "      <td>TRAVEL_STYL_5</td>\n",
              "      <td>6.360310</td>\n",
              "    </tr>\n",
              "    <tr>\n",
              "      <th>9</th>\n",
              "      <td>TRAVEL_STYL_2</td>\n",
              "      <td>5.296363</td>\n",
              "    </tr>\n",
              "    <tr>\n",
              "      <th>10</th>\n",
              "      <td>AGE_GRP</td>\n",
              "      <td>4.292728</td>\n",
              "    </tr>\n",
              "    <tr>\n",
              "      <th>11</th>\n",
              "      <td>TRAVEL_STYL_3</td>\n",
              "      <td>3.776465</td>\n",
              "    </tr>\n",
              "    <tr>\n",
              "      <th>12</th>\n",
              "      <td>TRAVEL_COMPANIONS_NUM</td>\n",
              "      <td>2.646452</td>\n",
              "    </tr>\n",
              "    <tr>\n",
              "      <th>13</th>\n",
              "      <td>GENDER</td>\n",
              "      <td>0.557593</td>\n",
              "    </tr>\n",
              "  </tbody>\n",
              "</table>\n",
              "</div>\n",
              "    <div class=\"colab-df-buttons\">\n",
              "\n",
              "  <div class=\"colab-df-container\">\n",
              "    <button class=\"colab-df-convert\" onclick=\"convertToInteractive('df-381c0fd3-8ccb-4684-a1f0-ee27da1dbda9')\"\n",
              "            title=\"Convert this dataframe to an interactive table.\"\n",
              "            style=\"display:none;\">\n",
              "\n",
              "  <svg xmlns=\"http://www.w3.org/2000/svg\" height=\"24px\" viewBox=\"0 -960 960 960\">\n",
              "    <path d=\"M120-120v-720h720v720H120Zm60-500h600v-160H180v160Zm220 220h160v-160H400v160Zm0 220h160v-160H400v160ZM180-400h160v-160H180v160Zm440 0h160v-160H620v160ZM180-180h160v-160H180v160Zm440 0h160v-160H620v160Z\"/>\n",
              "  </svg>\n",
              "    </button>\n",
              "\n",
              "  <style>\n",
              "    .colab-df-container {\n",
              "      display:flex;\n",
              "      gap: 12px;\n",
              "    }\n",
              "\n",
              "    .colab-df-convert {\n",
              "      background-color: #E8F0FE;\n",
              "      border: none;\n",
              "      border-radius: 50%;\n",
              "      cursor: pointer;\n",
              "      display: none;\n",
              "      fill: #1967D2;\n",
              "      height: 32px;\n",
              "      padding: 0 0 0 0;\n",
              "      width: 32px;\n",
              "    }\n",
              "\n",
              "    .colab-df-convert:hover {\n",
              "      background-color: #E2EBFA;\n",
              "      box-shadow: 0px 1px 2px rgba(60, 64, 67, 0.3), 0px 1px 3px 1px rgba(60, 64, 67, 0.15);\n",
              "      fill: #174EA6;\n",
              "    }\n",
              "\n",
              "    .colab-df-buttons div {\n",
              "      margin-bottom: 4px;\n",
              "    }\n",
              "\n",
              "    [theme=dark] .colab-df-convert {\n",
              "      background-color: #3B4455;\n",
              "      fill: #D2E3FC;\n",
              "    }\n",
              "\n",
              "    [theme=dark] .colab-df-convert:hover {\n",
              "      background-color: #434B5C;\n",
              "      box-shadow: 0px 1px 3px 1px rgba(0, 0, 0, 0.15);\n",
              "      filter: drop-shadow(0px 1px 2px rgba(0, 0, 0, 0.3));\n",
              "      fill: #FFFFFF;\n",
              "    }\n",
              "  </style>\n",
              "\n",
              "    <script>\n",
              "      const buttonEl =\n",
              "        document.querySelector('#df-381c0fd3-8ccb-4684-a1f0-ee27da1dbda9 button.colab-df-convert');\n",
              "      buttonEl.style.display =\n",
              "        google.colab.kernel.accessAllowed ? 'block' : 'none';\n",
              "\n",
              "      async function convertToInteractive(key) {\n",
              "        const element = document.querySelector('#df-381c0fd3-8ccb-4684-a1f0-ee27da1dbda9');\n",
              "        const dataTable =\n",
              "          await google.colab.kernel.invokeFunction('convertToInteractive',\n",
              "                                                    [key], {});\n",
              "        if (!dataTable) return;\n",
              "\n",
              "        const docLinkHtml = 'Like what you see? Visit the ' +\n",
              "          '<a target=\"_blank\" href=https://colab.research.google.com/notebooks/data_table.ipynb>data table notebook</a>'\n",
              "          + ' to learn more about interactive tables.';\n",
              "        element.innerHTML = '';\n",
              "        dataTable['output_type'] = 'display_data';\n",
              "        await google.colab.output.renderOutput(dataTable, element);\n",
              "        const docLink = document.createElement('div');\n",
              "        docLink.innerHTML = docLinkHtml;\n",
              "        element.appendChild(docLink);\n",
              "      }\n",
              "    </script>\n",
              "  </div>\n",
              "\n",
              "\n",
              "<div id=\"df-caa70040-fa3d-491f-8e33-2be3b5127fe2\">\n",
              "  <button class=\"colab-df-quickchart\" onclick=\"quickchart('df-caa70040-fa3d-491f-8e33-2be3b5127fe2')\"\n",
              "            title=\"Suggest charts\"\n",
              "            style=\"display:none;\">\n",
              "\n",
              "<svg xmlns=\"http://www.w3.org/2000/svg\" height=\"24px\"viewBox=\"0 0 24 24\"\n",
              "     width=\"24px\">\n",
              "    <g>\n",
              "        <path d=\"M19 3H5c-1.1 0-2 .9-2 2v14c0 1.1.9 2 2 2h14c1.1 0 2-.9 2-2V5c0-1.1-.9-2-2-2zM9 17H7v-7h2v7zm4 0h-2V7h2v10zm4 0h-2v-4h2v4z\"/>\n",
              "    </g>\n",
              "</svg>\n",
              "  </button>\n",
              "\n",
              "<style>\n",
              "  .colab-df-quickchart {\n",
              "      --bg-color: #E8F0FE;\n",
              "      --fill-color: #1967D2;\n",
              "      --hover-bg-color: #E2EBFA;\n",
              "      --hover-fill-color: #174EA6;\n",
              "      --disabled-fill-color: #AAA;\n",
              "      --disabled-bg-color: #DDD;\n",
              "  }\n",
              "\n",
              "  [theme=dark] .colab-df-quickchart {\n",
              "      --bg-color: #3B4455;\n",
              "      --fill-color: #D2E3FC;\n",
              "      --hover-bg-color: #434B5C;\n",
              "      --hover-fill-color: #FFFFFF;\n",
              "      --disabled-bg-color: #3B4455;\n",
              "      --disabled-fill-color: #666;\n",
              "  }\n",
              "\n",
              "  .colab-df-quickchart {\n",
              "    background-color: var(--bg-color);\n",
              "    border: none;\n",
              "    border-radius: 50%;\n",
              "    cursor: pointer;\n",
              "    display: none;\n",
              "    fill: var(--fill-color);\n",
              "    height: 32px;\n",
              "    padding: 0;\n",
              "    width: 32px;\n",
              "  }\n",
              "\n",
              "  .colab-df-quickchart:hover {\n",
              "    background-color: var(--hover-bg-color);\n",
              "    box-shadow: 0 1px 2px rgba(60, 64, 67, 0.3), 0 1px 3px 1px rgba(60, 64, 67, 0.15);\n",
              "    fill: var(--button-hover-fill-color);\n",
              "  }\n",
              "\n",
              "  .colab-df-quickchart-complete:disabled,\n",
              "  .colab-df-quickchart-complete:disabled:hover {\n",
              "    background-color: var(--disabled-bg-color);\n",
              "    fill: var(--disabled-fill-color);\n",
              "    box-shadow: none;\n",
              "  }\n",
              "\n",
              "  .colab-df-spinner {\n",
              "    border: 2px solid var(--fill-color);\n",
              "    border-color: transparent;\n",
              "    border-bottom-color: var(--fill-color);\n",
              "    animation:\n",
              "      spin 1s steps(1) infinite;\n",
              "  }\n",
              "\n",
              "  @keyframes spin {\n",
              "    0% {\n",
              "      border-color: transparent;\n",
              "      border-bottom-color: var(--fill-color);\n",
              "      border-left-color: var(--fill-color);\n",
              "    }\n",
              "    20% {\n",
              "      border-color: transparent;\n",
              "      border-left-color: var(--fill-color);\n",
              "      border-top-color: var(--fill-color);\n",
              "    }\n",
              "    30% {\n",
              "      border-color: transparent;\n",
              "      border-left-color: var(--fill-color);\n",
              "      border-top-color: var(--fill-color);\n",
              "      border-right-color: var(--fill-color);\n",
              "    }\n",
              "    40% {\n",
              "      border-color: transparent;\n",
              "      border-right-color: var(--fill-color);\n",
              "      border-top-color: var(--fill-color);\n",
              "    }\n",
              "    60% {\n",
              "      border-color: transparent;\n",
              "      border-right-color: var(--fill-color);\n",
              "    }\n",
              "    80% {\n",
              "      border-color: transparent;\n",
              "      border-right-color: var(--fill-color);\n",
              "      border-bottom-color: var(--fill-color);\n",
              "    }\n",
              "    90% {\n",
              "      border-color: transparent;\n",
              "      border-bottom-color: var(--fill-color);\n",
              "    }\n",
              "  }\n",
              "</style>\n",
              "\n",
              "  <script>\n",
              "    async function quickchart(key) {\n",
              "      const quickchartButtonEl =\n",
              "        document.querySelector('#' + key + ' button');\n",
              "      quickchartButtonEl.disabled = true;  // To prevent multiple clicks.\n",
              "      quickchartButtonEl.classList.add('colab-df-spinner');\n",
              "      try {\n",
              "        const charts = await google.colab.kernel.invokeFunction(\n",
              "            'suggestCharts', [key], {});\n",
              "      } catch (error) {\n",
              "        console.error('Error during call to suggestCharts:', error);\n",
              "      }\n",
              "      quickchartButtonEl.classList.remove('colab-df-spinner');\n",
              "      quickchartButtonEl.classList.add('colab-df-quickchart-complete');\n",
              "    }\n",
              "    (() => {\n",
              "      let quickchartButtonEl =\n",
              "        document.querySelector('#df-caa70040-fa3d-491f-8e33-2be3b5127fe2 button');\n",
              "      quickchartButtonEl.style.display =\n",
              "        google.colab.kernel.accessAllowed ? 'block' : 'none';\n",
              "    })();\n",
              "  </script>\n",
              "</div>\n",
              "\n",
              "    </div>\n",
              "  </div>\n"
            ],
            "application/vnd.google.colaboratory.intrinsic+json": {
              "type": "dataframe",
              "summary": "{\n  \"name\": \"model\",\n  \"rows\": 14,\n  \"fields\": [\n    {\n      \"column\": \"Feature Id\",\n      \"properties\": {\n        \"dtype\": \"string\",\n        \"num_unique_values\": 14,\n        \"samples\": [\n          \"TRAVEL_STYL_2\",\n          \"TRAVEL_STYL_3\",\n          \"TRAVEL_MISSION_INT\"\n        ],\n        \"semantic_type\": \"\",\n        \"description\": \"\"\n      }\n    },\n    {\n      \"column\": \"Importances\",\n      \"properties\": {\n        \"dtype\": \"number\",\n        \"std\": 4.092046202671134,\n        \"min\": 0.5575934931841489,\n        \"max\": 16.44267992008108,\n        \"num_unique_values\": 14,\n        \"samples\": [\n          5.296363146137978,\n          3.7764652733559076,\n          16.44267992008108\n        ],\n        \"semantic_type\": \"\",\n        \"description\": \"\"\n      }\n    }\n  ]\n}"
            }
          },
          "metadata": {},
          "execution_count": 18
        }
      ]
    }
  ]
}